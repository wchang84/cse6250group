{
 "cells": [
  {
   "cell_type": "code",
   "execution_count": 85,
   "id": "acoustic-military",
   "metadata": {},
   "outputs": [],
   "source": [
    "from pyspark.sql import SparkSession\n",
    "from pyspark.sql.types import *\n",
    "spark = SparkSession.builder.appName(\"cse6250group\").getOrCreate()\n"
   ]
  },
  {
   "cell_type": "code",
   "execution_count": 86,
   "id": "public-grace",
   "metadata": {},
   "outputs": [],
   "source": [
    "df = spark.read.csv('model data.csv', header=True,schema=StructType([\n",
    "            StructField('recording', LongType()),\n",
    "            StructField('Source', StringType()),\n",
    "            StructField('age', LongType()),\n",
    "            StructField('sex', StringType()),\n",
    "            StructField('diagnosis', StringType()),\n",
    "            StructField('other problems', StringType()),\n",
    "            StructField('epoches', LongType()),\n",
    "            StructField('w%', DoubleType()),\n",
    "            StructField('n1%', DoubleType()),\n",
    "            StructField('n2%', DoubleType()),\n",
    "            StructField('n3%', DoubleType()),\n",
    "            StructField('rem%', DoubleType())]))"
   ]
  },
  {
   "cell_type": "code",
   "execution_count": 87,
   "id": "complicated-insulation",
   "metadata": {},
   "outputs": [
    {
     "name": "stdout",
     "output_type": "stream",
     "text": [
      "+---------+-------+---+---+--------------------+--------------------+-------+-----+-----+-----+-----+-----+\n",
      "|recording| Source|age|sex|           diagnosis|      other problems|epoches|   w%|  n1%|  n2%|  n3%| rem%|\n",
      "+---------+-------+---+---+--------------------+--------------------+-------+-----+-----+-----+-----+-----+\n",
      "|        1|isruc-1| 64|  M|                SAOS|          Depression|    880| 30.0|  8.3|22.05|26.25|13.41|\n",
      "|        2|isruc-1| 52|  M|                SAOS|Restless leg synd...|    964|25.41|11.93|35.79|16.29|10.58|\n",
      "|        3|isruc-1| 38|  M|REM Sleep Behavio...|                PLMS|    943| 14.0| 17.5|26.09|18.35|24.07|\n",
      "|        4|isruc-1| 27|  M|               SRVAS|           Epilepsy |    963| 2.91| 6.75|44.24|22.22|23.88|\n",
      "|        5|isruc-1| 58|  F|                SAOS|            Insomnia|    875|33.83|12.34|30.29|18.74|  4.8|\n",
      "|        6|isruc-1| 22|  M|                PLMS|Epilepsy; brain t...|    897|80.49| 1.78| 6.69|11.04|  0.0|\n",
      "|        7|isruc-1| 70|  M|                SAOS|       Cheyne-Stokes|    933|14.36|18.33|21.97|25.08|20.26|\n",
      "|        8|isruc-1| 76|  M|                SAOS|Parkinson; Centra...|    904|24.45|13.94|31.08|23.67| 6.86|\n",
      "|        9|isruc-1| 61|  M|                SAOS|       Cheyne-Stokes|    969|15.48|17.85|35.19|16.41|15.07|\n",
      "|       10|isruc-1| 53|  F|                SAOS|     AVC; depression|    842| 38.0|10.69|36.58| 11.4| 3.33|\n",
      "|       11|isruc-1| 80|  M|                SAOS|                null|    997| 6.32| 17.9|43.73|21.11|10.93|\n",
      "|       12|isruc-1| 79|  M|REM Sleep Behavio...|                null|    850|19.65| 9.29|17.53|39.29|14.24|\n",
      "|       13|isruc-1| 65|  M|                SAOS|                null|    882| 73.7|12.59| 4.42| 7.26| 1.93|\n",
      "|       14|isruc-1| 66|  M|         D. Afectiva|                null|    906|50.77|12.36|19.98|11.48| 5.41|\n",
      "|       15|isruc-1| 52|  M|                SAOS|                null|    786|24.55|10.81| 20.1|23.03| 21.5|\n",
      "|       16|isruc-1| 50|  M|                SAOS|                null|    883|17.78|17.44|37.26|13.59|13.93|\n",
      "|       17|isruc-1| 79|  M|                SAOS|                null|    851|44.18|18.68|24.91| 6.46| 5.76|\n",
      "|       18|isruc-1| 38|  M|                SAOS|                null|    999|13.61|10.81|43.84|15.42|16.32|\n",
      "|       19|isruc-1| 59|  F|                SAOS|                null|    828|40.82|18.12|23.07| 8.21| 9.78|\n",
      "|       20|isruc-1| 59|  M|                SAOS|            Epilepsy|    950|28.53|10.32| 16.0|32.53|12.63|\n",
      "+---------+-------+---+---+--------------------+--------------------+-------+-----+-----+-----+-----+-----+\n",
      "only showing top 20 rows\n",
      "\n"
     ]
    }
   ],
   "source": [
    "df.show()"
   ]
  },
  {
   "cell_type": "code",
   "execution_count": 88,
   "id": "purple-linux",
   "metadata": {},
   "outputs": [],
   "source": [
    "# RONCOPATIA = snoring\n",
    "# S. PERNAS INQUIETAS = restless leg syndrome\n",
    "# SAOS = sleep apnea\n",
    "# PLMS = Periodic limb movements of sleep\n",
    "# EPILEPSIA = epilepsy\n",
    "# PRIVAÇÃO DE SONO = sleep deprivation\n",
    "## SRVAS, D.Afectiva"
   ]
  },
  {
   "cell_type": "code",
   "execution_count": 111,
   "id": "growing-forestry",
   "metadata": {},
   "outputs": [],
   "source": [
    "#df['diagnosis'] = np.where(df.diagnosis=='F', None, df.diagnosis)\n",
    "from pyspark.sql.functions import col,when,lower\n",
    "\n",
    "df = df.withColumn('diagnosis', when(df.diagnosis == \"F\",None).otherwise(df.diagnosis))"
   ]
  },
  {
   "cell_type": "code",
   "execution_count": 112,
   "id": "potential-center",
   "metadata": {},
   "outputs": [
    {
     "name": "stdout",
     "output_type": "stream",
     "text": [
      "+--------------------+\n",
      "|           diagnosis|\n",
      "+--------------------+\n",
      "|    PRIVAÇÃO DE SONO|\n",
      "|REM Sleep Behavio...|\n",
      "|                PLMS|\n",
      "|           EPILEPSIA|\n",
      "|                SAOS|\n",
      "|         D. Afectiva|\n",
      "| S. PERNAS INQUIETAS|\n",
      "|         Parasomnia |\n",
      "|          no problem|\n",
      "|          RONCOPATIA|\n",
      "|               SRVAS|\n",
      "+--------------------+\n",
      "\n"
     ]
    }
   ],
   "source": [
    "df.select(\"diagnosis\").distinct().show()"
   ]
  },
  {
   "cell_type": "code",
   "execution_count": 113,
   "id": "residential-header",
   "metadata": {},
   "outputs": [
    {
     "data": {
      "text/plain": [
       "Row(recording=1, Source='isruc-1', age=64, sex='M', diagnosis='SAOS', other problems='Depression', epoches=880, w%=30.0, n1%=8.3, n2%=22.05, n3%=26.25, rem%=13.41, is_male=True, is_female=False)"
      ]
     },
     "execution_count": 113,
     "metadata": {},
     "output_type": "execute_result"
    }
   ],
   "source": [
    "#1hot encoding for gender\n",
    "\n",
    "df = df.withColumn('is_male', lower(df.sex) == \"m\")\n",
    "df = df.withColumn('is_female', lower(df.sex) == \"f\")\n",
    "#df.head()\n",
    "df.head()"
   ]
  },
  {
   "cell_type": "code",
   "execution_count": 114,
   "id": "exceptional-caribbean",
   "metadata": {},
   "outputs": [],
   "source": [
    "df = df.dropna(subset=['w%','n1%', 'n2%', 'n3%', 'rem%', 'age', 'sex', 'diagnosis'])"
   ]
  },
  {
   "cell_type": "code",
   "execution_count": 115,
   "id": "charged-gambling",
   "metadata": {},
   "outputs": [
    {
     "name": "stdout",
     "output_type": "stream",
     "text": [
      "+--------------------+\n",
      "|           diagnosis|\n",
      "+--------------------+\n",
      "|    PRIVAÇÃO DE SONO|\n",
      "|REM Sleep Behavio...|\n",
      "|                PLMS|\n",
      "|           EPILEPSIA|\n",
      "|                SAOS|\n",
      "|         D. Afectiva|\n",
      "| S. PERNAS INQUIETAS|\n",
      "|         Parasomnia |\n",
      "|          no problem|\n",
      "|          RONCOPATIA|\n",
      "|               SRVAS|\n",
      "+--------------------+\n",
      "\n"
     ]
    }
   ],
   "source": [
    "df.select(\"diagnosis\").distinct().show()"
   ]
  },
  {
   "cell_type": "code",
   "execution_count": 116,
   "id": "solid-story",
   "metadata": {},
   "outputs": [],
   "source": [
    "from pyspark.ml.feature import VectorAssembler\n",
    "\n",
    "assembler = VectorAssembler(\n",
    "    inputCols=['w%','n1%', 'n2%', 'n3%', 'rem%', 'is_male','is_female'],\n",
    "    outputCol='features')\n",
    "\n",
    "transformed_df = assembler.transform(df)"
   ]
  },
  {
   "cell_type": "code",
   "execution_count": 109,
   "id": "entertaining-inspiration",
   "metadata": {},
   "outputs": [
    {
     "name": "stdout",
     "output_type": "stream",
     "text": [
      "Silhouette with squared euclidean distance = 0.1909549264810547\n",
      "Cluster Centers: \n",
      "[20.54857143 16.02928571 34.32857143 15.08214286 14.01142857  0.71428571\n",
      "  0.28571429]\n",
      "[11.08434783 14.84043478 40.08173913 19.84043478 14.15304348  0.47826087\n",
      "  0.52173913]\n",
      "[ 9.02333333 17.64555556 49.69333333 11.29666667 12.33888889  0.66666667\n",
      "  0.33333333]\n",
      "[10.22866667  6.632      31.10133333 31.45       20.58666667  0.73333333\n",
      "  0.26666667]\n",
      "[12.49222222 16.35       28.14777778 24.99777778 18.01444444  0.55555556\n",
      "  0.44444444]\n",
      "[21.82846154 10.97384615 30.97769231 24.33153846 11.89076923  0.61538462\n",
      "  0.38461538]\n",
      "[47.31833333 14.19       22.98833333  9.24833333  6.25        0.66666667\n",
      "  0.33333333]\n",
      "[72.5         5.66666667  7.20666667 13.64333333  0.94666667  0.66666667\n",
      "  0.33333333]\n",
      "[33.95466667 15.682      24.39866667 16.73266667  9.23333333  0.6\n",
      "  0.4       ]\n",
      "[33.85       13.33142857 33.95285714  9.65428571  9.21        0.57142857\n",
      "  0.42857143]\n",
      "[30.651  9.364 21.157 24.668 14.161  0.5    0.5  ]\n"
     ]
    }
   ],
   "source": [
    "from pyspark.ml.clustering import BisectingKMeans\n",
    "from pyspark.ml.evaluation import ClusteringEvaluator\n",
    "# Trains a bisecting k-means model.\n",
    "bkm = BisectingKMeans().setK(11).setSeed(42)\n",
    "model = bkm.fit(transformed_df)\n",
    "\n",
    "# Make predictions\n",
    "predictions = model.transform(transformed_df)\n",
    "\n",
    "# Evaluate clustering by computing Silhouette score\n",
    "evaluator = ClusteringEvaluator()\n",
    "\n",
    "silhouette = evaluator.evaluate(predictions)\n",
    "print(\"Silhouette with squared euclidean distance = \" + str(silhouette))\n",
    "\n",
    "# Shows the result.\n",
    "print(\"Cluster Centers: \")\n",
    "centers = model.clusterCenters()\n",
    "for center in centers:\n",
    "    print(center)"
   ]
  },
  {
   "cell_type": "code",
   "execution_count": 117,
   "id": "understood-battle",
   "metadata": {},
   "outputs": [],
   "source": [
    "import mne"
   ]
  },
  {
   "cell_type": "code",
   "execution_count": 119,
   "id": "lovely-deadline",
   "metadata": {},
   "outputs": [
    {
     "ename": "NotImplementedError",
     "evalue": "Only EDF files are supported by read_raw_edf, got rec",
     "output_type": "error",
     "traceback": [
      "\u001b[0;31m---------------------------------------------------------------------------\u001b[0m",
      "\u001b[0;31mNotImplementedError\u001b[0m                       Traceback (most recent call last)",
      "\u001b[0;32m<ipython-input-119-14d4f4910ed2>\u001b[0m in \u001b[0;36m<module>\u001b[0;34m\u001b[0m\n\u001b[0;32m----> 1\u001b[0;31m \u001b[0mmne\u001b[0m\u001b[0;34m.\u001b[0m\u001b[0mio\u001b[0m\u001b[0;34m.\u001b[0m\u001b[0mread_raw_edf\u001b[0m\u001b[0;34m(\u001b[0m\u001b[0;34m\"isruc-sleep/subgroupI/rec/1.rec\"\u001b[0m\u001b[0;34m)\u001b[0m\u001b[0;34m\u001b[0m\u001b[0;34m\u001b[0m\u001b[0m\n\u001b[0m",
      "\u001b[0;32m/opt/conda/lib/python3.8/site-packages/mne/io/edf/edf.py\u001b[0m in \u001b[0;36mread_raw_edf\u001b[0;34m(input_fname, eog, misc, stim_channel, exclude, preload, verbose)\u001b[0m\n\u001b[1;32m   1213\u001b[0m     \u001b[0mext\u001b[0m \u001b[0;34m=\u001b[0m \u001b[0mos\u001b[0m\u001b[0;34m.\u001b[0m\u001b[0mpath\u001b[0m\u001b[0;34m.\u001b[0m\u001b[0msplitext\u001b[0m\u001b[0;34m(\u001b[0m\u001b[0minput_fname\u001b[0m\u001b[0;34m)\u001b[0m\u001b[0;34m[\u001b[0m\u001b[0;36m1\u001b[0m\u001b[0;34m]\u001b[0m\u001b[0;34m[\u001b[0m\u001b[0;36m1\u001b[0m\u001b[0;34m:\u001b[0m\u001b[0;34m]\u001b[0m\u001b[0;34m.\u001b[0m\u001b[0mlower\u001b[0m\u001b[0;34m(\u001b[0m\u001b[0;34m)\u001b[0m\u001b[0;34m\u001b[0m\u001b[0;34m\u001b[0m\u001b[0m\n\u001b[1;32m   1214\u001b[0m     \u001b[0;32mif\u001b[0m \u001b[0mext\u001b[0m \u001b[0;34m!=\u001b[0m \u001b[0;34m'edf'\u001b[0m\u001b[0;34m:\u001b[0m\u001b[0;34m\u001b[0m\u001b[0;34m\u001b[0m\u001b[0m\n\u001b[0;32m-> 1215\u001b[0;31m         raise NotImplementedError(\n\u001b[0m\u001b[1;32m   1216\u001b[0m             'Only EDF files are supported by read_raw_edf, got %s' % (ext,))\n\u001b[1;32m   1217\u001b[0m     return RawEDF(input_fname=input_fname, eog=eog, misc=misc,\n",
      "\u001b[0;31mNotImplementedError\u001b[0m: Only EDF files are supported by read_raw_edf, got rec"
     ]
    }
   ],
   "source": []
  },
  {
   "cell_type": "code",
   "execution_count": null,
   "id": "directed-possible",
   "metadata": {},
   "outputs": [],
   "source": []
  }
 ],
 "metadata": {
  "kernelspec": {
   "display_name": "Python 3",
   "language": "python",
   "name": "python3"
  },
  "language_info": {
   "codemirror_mode": {
    "name": "ipython",
    "version": 3
   },
   "file_extension": ".py",
   "mimetype": "text/x-python",
   "name": "python",
   "nbconvert_exporter": "python",
   "pygments_lexer": "ipython3",
   "version": "3.6.12"
  }
 },
 "nbformat": 4,
 "nbformat_minor": 5
}
