{
 "cells": [
  {
   "cell_type": "code",
   "execution_count": 262,
   "id": "retained-consequence",
   "metadata": {},
   "outputs": [],
   "source": [
    "import pandas as pd\n",
    "from numpy import unique, where\n",
    "from sklearn.model_selection import train_test_split\n",
    "from sklearn.cluster import MeanShift, estimate_bandwidth\n",
    "from sklearn import preprocessing\n",
    "from matplotlib import pyplot as plt\n",
    "pd.set_option('display.max_rows', 500)"
   ]
  },
  {
   "cell_type": "code",
   "execution_count": 263,
   "id": "muslim-marks",
   "metadata": {},
   "outputs": [
    {
     "data": {
      "text/html": [
       "<div>\n",
       "<style scoped>\n",
       "    .dataframe tbody tr th:only-of-type {\n",
       "        vertical-align: middle;\n",
       "    }\n",
       "\n",
       "    .dataframe tbody tr th {\n",
       "        vertical-align: top;\n",
       "    }\n",
       "\n",
       "    .dataframe thead th {\n",
       "        text-align: right;\n",
       "    }\n",
       "</style>\n",
       "<table border=\"1\" class=\"dataframe\">\n",
       "  <thead>\n",
       "    <tr style=\"text-align: right;\">\n",
       "      <th></th>\n",
       "      <th>recording</th>\n",
       "      <th>Source</th>\n",
       "      <th>age</th>\n",
       "      <th>sex</th>\n",
       "      <th>diagnosis</th>\n",
       "      <th>other problems</th>\n",
       "      <th>epoches</th>\n",
       "      <th>w%</th>\n",
       "      <th>n1%</th>\n",
       "      <th>n2%</th>\n",
       "      <th>n3%</th>\n",
       "      <th>rem%</th>\n",
       "    </tr>\n",
       "  </thead>\n",
       "  <tbody>\n",
       "    <tr>\n",
       "      <th>0</th>\n",
       "      <td>1</td>\n",
       "      <td>isruc-1</td>\n",
       "      <td>64.0</td>\n",
       "      <td>M</td>\n",
       "      <td>SAOS</td>\n",
       "      <td>Depression</td>\n",
       "      <td>880</td>\n",
       "      <td>30.000000</td>\n",
       "      <td>8.300000</td>\n",
       "      <td>22.050000</td>\n",
       "      <td>26.250000</td>\n",
       "      <td>13.410000</td>\n",
       "    </tr>\n",
       "    <tr>\n",
       "      <th>1</th>\n",
       "      <td>2</td>\n",
       "      <td>isruc-1</td>\n",
       "      <td>52.0</td>\n",
       "      <td>M</td>\n",
       "      <td>SAOS</td>\n",
       "      <td>Restless leg syndrome</td>\n",
       "      <td>964</td>\n",
       "      <td>25.410000</td>\n",
       "      <td>11.930000</td>\n",
       "      <td>35.790000</td>\n",
       "      <td>16.290000</td>\n",
       "      <td>10.580000</td>\n",
       "    </tr>\n",
       "    <tr>\n",
       "      <th>2</th>\n",
       "      <td>3</td>\n",
       "      <td>isruc-1</td>\n",
       "      <td>38.0</td>\n",
       "      <td>M</td>\n",
       "      <td>REM Sleep Behaviour Disorder</td>\n",
       "      <td>PLMS</td>\n",
       "      <td>943</td>\n",
       "      <td>14.000000</td>\n",
       "      <td>17.500000</td>\n",
       "      <td>26.090000</td>\n",
       "      <td>18.350000</td>\n",
       "      <td>24.070000</td>\n",
       "    </tr>\n",
       "    <tr>\n",
       "      <th>3</th>\n",
       "      <td>4</td>\n",
       "      <td>isruc-1</td>\n",
       "      <td>27.0</td>\n",
       "      <td>M</td>\n",
       "      <td>SRVAS</td>\n",
       "      <td>Epilepsy</td>\n",
       "      <td>963</td>\n",
       "      <td>2.910000</td>\n",
       "      <td>6.750000</td>\n",
       "      <td>44.240000</td>\n",
       "      <td>22.220000</td>\n",
       "      <td>23.880000</td>\n",
       "    </tr>\n",
       "    <tr>\n",
       "      <th>4</th>\n",
       "      <td>5</td>\n",
       "      <td>isruc-1</td>\n",
       "      <td>58.0</td>\n",
       "      <td>F</td>\n",
       "      <td>SAOS</td>\n",
       "      <td>Insomnia</td>\n",
       "      <td>875</td>\n",
       "      <td>33.830000</td>\n",
       "      <td>12.340000</td>\n",
       "      <td>30.290000</td>\n",
       "      <td>18.740000</td>\n",
       "      <td>4.800000</td>\n",
       "    </tr>\n",
       "    <tr>\n",
       "      <th>...</th>\n",
       "      <td>...</td>\n",
       "      <td>...</td>\n",
       "      <td>...</td>\n",
       "      <td>...</td>\n",
       "      <td>...</td>\n",
       "      <td>...</td>\n",
       "      <td>...</td>\n",
       "      <td>...</td>\n",
       "      <td>...</td>\n",
       "      <td>...</td>\n",
       "      <td>...</td>\n",
       "      <td>...</td>\n",
       "    </tr>\n",
       "    <tr>\n",
       "      <th>1088</th>\n",
       "      <td>1103</td>\n",
       "      <td>SHHS</td>\n",
       "      <td>67.0</td>\n",
       "      <td>M</td>\n",
       "      <td>F</td>\n",
       "      <td>NaN</td>\n",
       "      <td>1000</td>\n",
       "      <td>20.000000</td>\n",
       "      <td>5.200000</td>\n",
       "      <td>57.300000</td>\n",
       "      <td>1.500000</td>\n",
       "      <td>16.000000</td>\n",
       "    </tr>\n",
       "    <tr>\n",
       "      <th>1089</th>\n",
       "      <td>1104</td>\n",
       "      <td>SHHS</td>\n",
       "      <td>58.0</td>\n",
       "      <td>F</td>\n",
       "      <td>F</td>\n",
       "      <td>NaN</td>\n",
       "      <td>760</td>\n",
       "      <td>4.342105</td>\n",
       "      <td>1.447368</td>\n",
       "      <td>44.868421</td>\n",
       "      <td>24.736842</td>\n",
       "      <td>24.605263</td>\n",
       "    </tr>\n",
       "    <tr>\n",
       "      <th>1090</th>\n",
       "      <td>1105</td>\n",
       "      <td>SHHS</td>\n",
       "      <td>63.0</td>\n",
       "      <td>M</td>\n",
       "      <td>F</td>\n",
       "      <td>NaN</td>\n",
       "      <td>840</td>\n",
       "      <td>25.833333</td>\n",
       "      <td>4.880952</td>\n",
       "      <td>47.500000</td>\n",
       "      <td>8.452381</td>\n",
       "      <td>13.333333</td>\n",
       "    </tr>\n",
       "    <tr>\n",
       "      <th>1091</th>\n",
       "      <td>1106</td>\n",
       "      <td>SHHS</td>\n",
       "      <td>68.0</td>\n",
       "      <td>F</td>\n",
       "      <td>F</td>\n",
       "      <td>NaN</td>\n",
       "      <td>1100</td>\n",
       "      <td>8.545455</td>\n",
       "      <td>7.727273</td>\n",
       "      <td>53.727273</td>\n",
       "      <td>8.818182</td>\n",
       "      <td>21.181818</td>\n",
       "    </tr>\n",
       "    <tr>\n",
       "      <th>1092</th>\n",
       "      <td>1107</td>\n",
       "      <td>SHHS</td>\n",
       "      <td>63.0</td>\n",
       "      <td>F</td>\n",
       "      <td>F</td>\n",
       "      <td>NaN</td>\n",
       "      <td>1020</td>\n",
       "      <td>28.529412</td>\n",
       "      <td>4.803922</td>\n",
       "      <td>41.372549</td>\n",
       "      <td>14.411765</td>\n",
       "      <td>10.882353</td>\n",
       "    </tr>\n",
       "  </tbody>\n",
       "</table>\n",
       "<p>1093 rows × 12 columns</p>\n",
       "</div>"
      ],
      "text/plain": [
       "      recording   Source   age sex                     diagnosis  \\\n",
       "0             1  isruc-1  64.0   M                          SAOS   \n",
       "1             2  isruc-1  52.0   M                          SAOS   \n",
       "2             3  isruc-1  38.0   M  REM Sleep Behaviour Disorder   \n",
       "3             4  isruc-1  27.0   M                         SRVAS   \n",
       "4             5  isruc-1  58.0   F                          SAOS   \n",
       "...         ...      ...   ...  ..                           ...   \n",
       "1088       1103     SHHS  67.0   M                             F   \n",
       "1089       1104     SHHS  58.0   F                             F   \n",
       "1090       1105     SHHS  63.0   M                             F   \n",
       "1091       1106     SHHS  68.0   F                             F   \n",
       "1092       1107     SHHS  63.0   F                             F   \n",
       "\n",
       "             other problems  epoches         w%        n1%        n2%  \\\n",
       "0                Depression      880  30.000000   8.300000  22.050000   \n",
       "1     Restless leg syndrome      964  25.410000  11.930000  35.790000   \n",
       "2                      PLMS      943  14.000000  17.500000  26.090000   \n",
       "3                 Epilepsy       963   2.910000   6.750000  44.240000   \n",
       "4                  Insomnia      875  33.830000  12.340000  30.290000   \n",
       "...                     ...      ...        ...        ...        ...   \n",
       "1088                    NaN     1000  20.000000   5.200000  57.300000   \n",
       "1089                    NaN      760   4.342105   1.447368  44.868421   \n",
       "1090                    NaN      840  25.833333   4.880952  47.500000   \n",
       "1091                    NaN     1100   8.545455   7.727273  53.727273   \n",
       "1092                    NaN     1020  28.529412   4.803922  41.372549   \n",
       "\n",
       "            n3%       rem%  \n",
       "0     26.250000  13.410000  \n",
       "1     16.290000  10.580000  \n",
       "2     18.350000  24.070000  \n",
       "3     22.220000  23.880000  \n",
       "4     18.740000   4.800000  \n",
       "...         ...        ...  \n",
       "1088   1.500000  16.000000  \n",
       "1089  24.736842  24.605263  \n",
       "1090   8.452381  13.333333  \n",
       "1091   8.818182  21.181818  \n",
       "1092  14.411765  10.882353  \n",
       "\n",
       "[1093 rows x 12 columns]"
      ]
     },
     "execution_count": 263,
     "metadata": {},
     "output_type": "execute_result"
    }
   ],
   "source": [
    "data = pd.read_csv('model data.csv')\n",
    "original_df = pd.DataFrame.copy(data)\n",
    "data"
   ]
  },
  {
   "cell_type": "code",
   "execution_count": 264,
   "id": "compound-maple",
   "metadata": {},
   "outputs": [],
   "source": [
    "X = data[['w%', 'n1%', 'n2%', 'n3%', 'rem%', 'age']].dropna()\n",
    "y = data[['age']]"
   ]
  },
  {
   "cell_type": "code",
   "execution_count": 265,
   "id": "temporal-extension",
   "metadata": {},
   "outputs": [],
   "source": [
    "X = preprocessing.scale(X)\n",
    "bandwidth = estimate_bandwidth(X, quantile=0.2, n_samples=1000)"
   ]
  },
  {
   "cell_type": "code",
   "execution_count": 266,
   "id": "impaired-latin",
   "metadata": {},
   "outputs": [],
   "source": [
    "clf = MeanShift(bandwidth=bandwidth).fit(X)"
   ]
  },
  {
   "cell_type": "code",
   "execution_count": 267,
   "id": "understanding-assumption",
   "metadata": {},
   "outputs": [],
   "source": [
    "labels = clf.labels_\n",
    "cluster_centers = clf.cluster_centers_"
   ]
  },
  {
   "cell_type": "code",
   "execution_count": 268,
   "id": "floating-embassy",
   "metadata": {},
   "outputs": [
    {
     "name": "stdout",
     "output_type": "stream",
     "text": [
      "number of estimated clusters : 4\n"
     ]
    }
   ],
   "source": [
    "labels_unique = np.unique(labels)\n",
    "n_clusters_ = len(labels_unique)\n",
    "print(\"number of estimated clusters : %d\" % n_clusters_)\n"
   ]
  },
  {
   "cell_type": "code",
   "execution_count": 269,
   "id": "processed-generator",
   "metadata": {},
   "outputs": [
    {
     "name": "stderr",
     "output_type": "stream",
     "text": [
      "C:\\Users\\baron\\.conda\\envs\\BD4H\\lib\\site-packages\\pandas\\core\\indexing.py:670: SettingWithCopyWarning: \n",
      "A value is trying to be set on a copy of a slice from a DataFrame\n",
      "\n",
      "See the caveats in the documentation: https://pandas.pydata.org/pandas-docs/stable/user_guide/indexing.html#returning-a-view-versus-a-copy\n",
      "  iloc._setitem_with_indexer(indexer, value)\n"
     ]
    }
   ],
   "source": [
    "original_df['cluster_group']=np.nan\n",
    "for i in range(len(X)):\n",
    "    original_df['cluster_group'].iloc[i] = labels[i]"
   ]
  },
  {
   "cell_type": "code",
   "execution_count": 270,
   "id": "pressed-polyester",
   "metadata": {
    "scrolled": false
   },
   "outputs": [
    {
     "data": {
      "image/png": "[encoded data removed]",
      "text/plain": [
       "<Figure size 432x288 with 1 Axes>"
      ]
     },
     "metadata": {
      "needs_background": "light"
     },
     "output_type": "display_data"
    }
   ],
   "source": [
    "# for i in original_df[['age','cluster_group']]['cluster_group']:\n",
    "#     print(i)\n",
    "import matplotlib.pyplot as plt\n",
    "from itertools import cycle\n",
    "\n",
    "plt.figure(1)\n",
    "plt.clf()\n",
    "\n",
    "colors = cycle('bgrcmykbgrcmykbgrcmykbgrcmyk')\n",
    "for k, col in zip(range(n_clusters_), colors):\n",
    "    my_members = labels == k\n",
    "    cluster_center = cluster_centers[k]\n",
    "    plt.plot(X[my_members, 0], X[my_members, 1], col + '.')\n",
    "    plt.plot(cluster_center[0], cluster_center[1], 'o', markerfacecolor=col,\n",
    "             markeredgecolor='k', markersize=14)\n",
    "plt.title('MeanShift: Estimated number of clusters: %d' % n_clusters_)\n",
    "plt.show()"
   ]
  },
  {
   "cell_type": "code",
   "execution_count": 271,
   "id": "changing-collection",
   "metadata": {},
   "outputs": [],
   "source": [
    "original_df.to_csv('meanshift.csv')"
   ]
  },
  {
   "cell_type": "code",
   "execution_count": null,
   "id": "parental-fortune",
   "metadata": {},
   "outputs": [],
   "source": [
    "original_df"
   ]
  }
 ],
 "metadata": {
  "kernelspec": {
   "display_name": "Python 3",
   "language": "python",
   "name": "python3"
  },
  "language_info": {
   "codemirror_mode": {
    "name": "ipython",
    "version": 3
   },
   "file_extension": ".py",
   "mimetype": "text/x-python",
   "name": "python",
   "nbconvert_exporter": "python",
   "pygments_lexer": "ipython3",
   "version": "3.6.12"
  }
 },
 "nbformat": 4,
 "nbformat_minor": 5
}
