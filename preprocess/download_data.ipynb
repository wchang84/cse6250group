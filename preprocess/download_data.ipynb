{
 "cells": [
  {
   "cell_type": "code",
   "execution_count": 5,
   "id": "improving-albany",
   "metadata": {},
   "outputs": [],
   "source": [
    "import requests"
   ]
  },
  {
   "cell_type": "code",
   "execution_count": 6,
   "id": "analyzed-cornell",
   "metadata": {},
   "outputs": [],
   "source": [
    "s = requests.Session()"
   ]
  },
  {
   "cell_type": "code",
   "execution_count": 7,
   "id": "conscious-continent",
   "metadata": {},
   "outputs": [
    {
     "name": "stdout",
     "output_type": "stream",
     "text": [
      "successfully downloaded file http://dataset.isr.uc.pt/ISRUC_Sleep/subgroupI/1.rar\n",
      "successfully downloaded file http://dataset.isr.uc.pt/ISRUC_Sleep/subgroupI/2.rar\n",
      "successfully downloaded file http://dataset.isr.uc.pt/ISRUC_Sleep/subgroupI/3.rar\n",
      "successfully downloaded file http://dataset.isr.uc.pt/ISRUC_Sleep/subgroupI/4.rar\n",
      "successfully downloaded file http://dataset.isr.uc.pt/ISRUC_Sleep/subgroupI/5.rar\n",
      "successfully downloaded file http://dataset.isr.uc.pt/ISRUC_Sleep/subgroupI/6.rar\n",
      "successfully downloaded file http://dataset.isr.uc.pt/ISRUC_Sleep/subgroupI/7.rar\n",
      "successfully downloaded file http://dataset.isr.uc.pt/ISRUC_Sleep/subgroupI/8.rar\n",
      "successfully downloaded file http://dataset.isr.uc.pt/ISRUC_Sleep/subgroupI/9.rar\n",
      "successfully downloaded file http://dataset.isr.uc.pt/ISRUC_Sleep/subgroupI/10.rar\n",
      "successfully downloaded file http://dataset.isr.uc.pt/ISRUC_Sleep/subgroupI/11.rar\n",
      "successfully downloaded file http://dataset.isr.uc.pt/ISRUC_Sleep/subgroupI/12.rar\n",
      "successfully downloaded file http://dataset.isr.uc.pt/ISRUC_Sleep/subgroupI/13.rar\n",
      "successfully downloaded file http://dataset.isr.uc.pt/ISRUC_Sleep/subgroupI/14.rar\n",
      "successfully downloaded file http://dataset.isr.uc.pt/ISRUC_Sleep/subgroupI/15.rar\n",
      "successfully downloaded file http://dataset.isr.uc.pt/ISRUC_Sleep/subgroupI/16.rar\n",
      "successfully downloaded file http://dataset.isr.uc.pt/ISRUC_Sleep/subgroupI/17.rar\n",
      "successfully downloaded file http://dataset.isr.uc.pt/ISRUC_Sleep/subgroupI/18.rar\n",
      "successfully downloaded file http://dataset.isr.uc.pt/ISRUC_Sleep/subgroupI/19.rar\n",
      "successfully downloaded file http://dataset.isr.uc.pt/ISRUC_Sleep/subgroupI/20.rar\n",
      "successfully downloaded file http://dataset.isr.uc.pt/ISRUC_Sleep/subgroupI/21.rar\n",
      "successfully downloaded file http://dataset.isr.uc.pt/ISRUC_Sleep/subgroupI/22.rar\n",
      "successfully downloaded file http://dataset.isr.uc.pt/ISRUC_Sleep/subgroupI/23.rar\n",
      "successfully downloaded file http://dataset.isr.uc.pt/ISRUC_Sleep/subgroupI/24.rar\n",
      "successfully downloaded file http://dataset.isr.uc.pt/ISRUC_Sleep/subgroupI/25.rar\n",
      "successfully downloaded file http://dataset.isr.uc.pt/ISRUC_Sleep/subgroupI/26.rar\n",
      "successfully downloaded file http://dataset.isr.uc.pt/ISRUC_Sleep/subgroupI/27.rar\n",
      "successfully downloaded file http://dataset.isr.uc.pt/ISRUC_Sleep/subgroupI/28.rar\n",
      "successfully downloaded file http://dataset.isr.uc.pt/ISRUC_Sleep/subgroupI/29.rar\n",
      "successfully downloaded file http://dataset.isr.uc.pt/ISRUC_Sleep/subgroupI/30.rar\n",
      "successfully downloaded file http://dataset.isr.uc.pt/ISRUC_Sleep/subgroupI/31.rar\n",
      "successfully downloaded file http://dataset.isr.uc.pt/ISRUC_Sleep/subgroupI/32.rar\n",
      "successfully downloaded file http://dataset.isr.uc.pt/ISRUC_Sleep/subgroupI/33.rar\n",
      "successfully downloaded file http://dataset.isr.uc.pt/ISRUC_Sleep/subgroupI/34.rar\n",
      "successfully downloaded file http://dataset.isr.uc.pt/ISRUC_Sleep/subgroupI/35.rar\n",
      "successfully downloaded file http://dataset.isr.uc.pt/ISRUC_Sleep/subgroupI/36.rar\n",
      "successfully downloaded file http://dataset.isr.uc.pt/ISRUC_Sleep/subgroupI/37.rar\n",
      "successfully downloaded file http://dataset.isr.uc.pt/ISRUC_Sleep/subgroupI/38.rar\n",
      "successfully downloaded file http://dataset.isr.uc.pt/ISRUC_Sleep/subgroupI/39.rar\n",
      "successfully downloaded file http://dataset.isr.uc.pt/ISRUC_Sleep/subgroupI/40.rar\n",
      "successfully downloaded file http://dataset.isr.uc.pt/ISRUC_Sleep/subgroupI/41.rar\n",
      "successfully downloaded file http://dataset.isr.uc.pt/ISRUC_Sleep/subgroupI/42.rar\n",
      "successfully downloaded file http://dataset.isr.uc.pt/ISRUC_Sleep/subgroupI/43.rar\n",
      "successfully downloaded file http://dataset.isr.uc.pt/ISRUC_Sleep/subgroupI/44.rar\n",
      "successfully downloaded file http://dataset.isr.uc.pt/ISRUC_Sleep/subgroupI/45.rar\n",
      "successfully downloaded file http://dataset.isr.uc.pt/ISRUC_Sleep/subgroupI/46.rar\n",
      "successfully downloaded file http://dataset.isr.uc.pt/ISRUC_Sleep/subgroupI/47.rar\n",
      "successfully downloaded file http://dataset.isr.uc.pt/ISRUC_Sleep/subgroupI/48.rar\n",
      "successfully downloaded file http://dataset.isr.uc.pt/ISRUC_Sleep/subgroupI/49.rar\n",
      "successfully downloaded file http://dataset.isr.uc.pt/ISRUC_Sleep/subgroupI/50.rar\n",
      "successfully downloaded file http://dataset.isr.uc.pt/ISRUC_Sleep/subgroupI/51.rar\n",
      "successfully downloaded file http://dataset.isr.uc.pt/ISRUC_Sleep/subgroupI/52.rar\n",
      "successfully downloaded file http://dataset.isr.uc.pt/ISRUC_Sleep/subgroupI/53.rar\n",
      "successfully downloaded file http://dataset.isr.uc.pt/ISRUC_Sleep/subgroupI/54.rar\n",
      "successfully downloaded file http://dataset.isr.uc.pt/ISRUC_Sleep/subgroupI/55.rar\n",
      "successfully downloaded file http://dataset.isr.uc.pt/ISRUC_Sleep/subgroupI/56.rar\n",
      "successfully downloaded file http://dataset.isr.uc.pt/ISRUC_Sleep/subgroupI/57.rar\n",
      "successfully downloaded file http://dataset.isr.uc.pt/ISRUC_Sleep/subgroupI/58.rar\n",
      "successfully downloaded file http://dataset.isr.uc.pt/ISRUC_Sleep/subgroupI/59.rar\n",
      "successfully downloaded file http://dataset.isr.uc.pt/ISRUC_Sleep/subgroupI/60.rar\n",
      "successfully downloaded file http://dataset.isr.uc.pt/ISRUC_Sleep/subgroupI/61.rar\n",
      "successfully downloaded file http://dataset.isr.uc.pt/ISRUC_Sleep/subgroupI/62.rar\n",
      "successfully downloaded file http://dataset.isr.uc.pt/ISRUC_Sleep/subgroupI/63.rar\n",
      "successfully downloaded file http://dataset.isr.uc.pt/ISRUC_Sleep/subgroupI/64.rar\n",
      "successfully downloaded file http://dataset.isr.uc.pt/ISRUC_Sleep/subgroupI/65.rar\n",
      "successfully downloaded file http://dataset.isr.uc.pt/ISRUC_Sleep/subgroupI/66.rar\n",
      "successfully downloaded file http://dataset.isr.uc.pt/ISRUC_Sleep/subgroupI/67.rar\n",
      "successfully downloaded file http://dataset.isr.uc.pt/ISRUC_Sleep/subgroupI/68.rar\n",
      "successfully downloaded file http://dataset.isr.uc.pt/ISRUC_Sleep/subgroupI/69.rar\n",
      "successfully downloaded file http://dataset.isr.uc.pt/ISRUC_Sleep/subgroupI/70.rar\n",
      "successfully downloaded file http://dataset.isr.uc.pt/ISRUC_Sleep/subgroupI/71.rar\n",
      "successfully downloaded file http://dataset.isr.uc.pt/ISRUC_Sleep/subgroupI/72.rar\n",
      "successfully downloaded file http://dataset.isr.uc.pt/ISRUC_Sleep/subgroupI/73.rar\n",
      "successfully downloaded file http://dataset.isr.uc.pt/ISRUC_Sleep/subgroupI/74.rar\n",
      "successfully downloaded file http://dataset.isr.uc.pt/ISRUC_Sleep/subgroupI/75.rar\n",
      "successfully downloaded file http://dataset.isr.uc.pt/ISRUC_Sleep/subgroupI/76.rar\n",
      "successfully downloaded file http://dataset.isr.uc.pt/ISRUC_Sleep/subgroupI/77.rar\n",
      "successfully downloaded file http://dataset.isr.uc.pt/ISRUC_Sleep/subgroupI/78.rar\n",
      "successfully downloaded file http://dataset.isr.uc.pt/ISRUC_Sleep/subgroupI/79.rar\n",
      "successfully downloaded file http://dataset.isr.uc.pt/ISRUC_Sleep/subgroupI/80.rar\n",
      "successfully downloaded file http://dataset.isr.uc.pt/ISRUC_Sleep/subgroupI/81.rar\n",
      "successfully downloaded file http://dataset.isr.uc.pt/ISRUC_Sleep/subgroupI/82.rar\n",
      "successfully downloaded file http://dataset.isr.uc.pt/ISRUC_Sleep/subgroupI/83.rar\n",
      "successfully downloaded file http://dataset.isr.uc.pt/ISRUC_Sleep/subgroupI/84.rar\n",
      "successfully downloaded file http://dataset.isr.uc.pt/ISRUC_Sleep/subgroupI/85.rar\n",
      "successfully downloaded file http://dataset.isr.uc.pt/ISRUC_Sleep/subgroupI/86.rar\n",
      "successfully downloaded file http://dataset.isr.uc.pt/ISRUC_Sleep/subgroupI/87.rar\n",
      "successfully downloaded file http://dataset.isr.uc.pt/ISRUC_Sleep/subgroupI/88.rar\n",
      "successfully downloaded file http://dataset.isr.uc.pt/ISRUC_Sleep/subgroupI/89.rar\n",
      "successfully downloaded file http://dataset.isr.uc.pt/ISRUC_Sleep/subgroupI/90.rar\n",
      "successfully downloaded file http://dataset.isr.uc.pt/ISRUC_Sleep/subgroupI/91.rar\n",
      "successfully downloaded file http://dataset.isr.uc.pt/ISRUC_Sleep/subgroupI/92.rar\n",
      "successfully downloaded file http://dataset.isr.uc.pt/ISRUC_Sleep/subgroupI/93.rar\n",
      "successfully downloaded file http://dataset.isr.uc.pt/ISRUC_Sleep/subgroupI/94.rar\n",
      "successfully downloaded file http://dataset.isr.uc.pt/ISRUC_Sleep/subgroupI/95.rar\n",
      "successfully downloaded file http://dataset.isr.uc.pt/ISRUC_Sleep/subgroupI/96.rar\n",
      "successfully downloaded file http://dataset.isr.uc.pt/ISRUC_Sleep/subgroupI/97.rar\n",
      "successfully downloaded file http://dataset.isr.uc.pt/ISRUC_Sleep/subgroupI/98.rar\n",
      "successfully downloaded file http://dataset.isr.uc.pt/ISRUC_Sleep/subgroupI/99.rar\n"
     ]
    },
    {
     "name": "stdout",
     "output_type": "stream",
     "text": [
      "successfully downloaded file http://dataset.isr.uc.pt/ISRUC_Sleep/subgroupI/100.rar\n"
     ]
    }
   ],
   "source": [
    "\n",
    "for patient_id in range(1,101):\n",
    "    src = f\"http://dataset.isr.uc.pt/ISRUC_Sleep/subgroupI/{patient_id}.rar\"\n",
    "    with s.get(src, stream=True) as r:\n",
    "        with open(f\"../data/isruc-sleep/subgroupI/{patient_id}.rar\",\"wb\") as f:\n",
    "            for chunk in r.iter_content(chunk_size=16*1024):\n",
    "                f.write(chunk)\n",
    "    print(f\"successfully downloaded file {src}\")"
   ]
  },
  {
   "cell_type": "code",
   "execution_count": 8,
   "id": "actual-armenia",
   "metadata": {},
   "outputs": [
    {
     "name": "stdout",
     "output_type": "stream",
     "text": [
      "successfully downloaded file http://dataset.isr.uc.pt/ISRUC_Sleep/subgroupII/1.rar\n",
      "successfully downloaded file http://dataset.isr.uc.pt/ISRUC_Sleep/subgroupII/2.rar\n",
      "successfully downloaded file http://dataset.isr.uc.pt/ISRUC_Sleep/subgroupII/3.rar\n",
      "successfully downloaded file http://dataset.isr.uc.pt/ISRUC_Sleep/subgroupII/4.rar\n",
      "successfully downloaded file http://dataset.isr.uc.pt/ISRUC_Sleep/subgroupII/5.rar\n",
      "successfully downloaded file http://dataset.isr.uc.pt/ISRUC_Sleep/subgroupII/6.rar\n",
      "successfully downloaded file http://dataset.isr.uc.pt/ISRUC_Sleep/subgroupII/7.rar\n",
      "successfully downloaded file http://dataset.isr.uc.pt/ISRUC_Sleep/subgroupII/8.rar\n"
     ]
    }
   ],
   "source": [
    "for patient_id in range(1,9):\n",
    "    src = f\"http://dataset.isr.uc.pt/ISRUC_Sleep/subgroupII/{patient_id}.rar\"\n",
    "    with s.get(src, stream=True) as r:\n",
    "        with open(f\"../data/isruc-sleep/subgroupII/{patient_id}.rar\",\"wb\") as f:\n",
    "            for chunk in r.iter_content(chunk_size=16*1024):\n",
    "                f.write(chunk)\n",
    "    print(f\"successfully downloaded file {src}\")"
   ]
  },
  {
   "cell_type": "code",
   "execution_count": 9,
   "id": "mature-membrane",
   "metadata": {},
   "outputs": [
    {
     "name": "stdout",
     "output_type": "stream",
     "text": [
      "successfully downloaded file http://dataset.isr.uc.pt/ISRUC_Sleep/subgroupIII/1.rar\n",
      "successfully downloaded file http://dataset.isr.uc.pt/ISRUC_Sleep/subgroupIII/2.rar\n",
      "successfully downloaded file http://dataset.isr.uc.pt/ISRUC_Sleep/subgroupIII/3.rar\n",
      "successfully downloaded file http://dataset.isr.uc.pt/ISRUC_Sleep/subgroupIII/4.rar\n",
      "successfully downloaded file http://dataset.isr.uc.pt/ISRUC_Sleep/subgroupIII/5.rar\n",
      "successfully downloaded file http://dataset.isr.uc.pt/ISRUC_Sleep/subgroupIII/6.rar\n",
      "successfully downloaded file http://dataset.isr.uc.pt/ISRUC_Sleep/subgroupIII/7.rar\n",
      "successfully downloaded file http://dataset.isr.uc.pt/ISRUC_Sleep/subgroupIII/8.rar\n",
      "successfully downloaded file http://dataset.isr.uc.pt/ISRUC_Sleep/subgroupIII/9.rar\n",
      "successfully downloaded file http://dataset.isr.uc.pt/ISRUC_Sleep/subgroupIII/10.rar\n"
     ]
    }
   ],
   "source": [
    "\n",
    "for patient_id in range(1,11):\n",
    "    src = f\"http://dataset.isr.uc.pt/ISRUC_Sleep/subgroupIII/{patient_id}.rar\"\n",
    "    with s.get(src, stream=True) as r:\n",
    "        with open(f\"../data/isruc-sleep/subgroupIII/{patient_id}.rar\",\"wb\") as f:\n",
    "            for chunk in r.iter_content(chunk_size=16*1024):\n",
    "                f.write(chunk)\n",
    "    print(f\"successfully downloaded file {src}\")"
   ]
  },
  {
   "cell_type": "code",
   "execution_count": 12,
   "id": "continuing-domain",
   "metadata": {},
   "outputs": [
    {
     "ename": "FileNotFoundError",
     "evalue": "[WinError 2] The system cannot find the file specified",
     "output_type": "error",
     "traceback": [
      "\u001b[1;31m---------------------------------------------------------------------------\u001b[0m",
      "\u001b[1;31mFileNotFoundError\u001b[0m                         Traceback (most recent call last)",
      "\u001b[1;32m<ipython-input-12-6316be364f96>\u001b[0m in \u001b[0;36m<module>\u001b[1;34m\u001b[0m\n\u001b[0;32m      1\u001b[0m \u001b[1;32mimport\u001b[0m \u001b[0msubprocess\u001b[0m\u001b[1;33m\u001b[0m\u001b[1;33m\u001b[0m\u001b[0m\n\u001b[1;32m----> 2\u001b[1;33m \u001b[0mtest\u001b[0m \u001b[1;33m=\u001b[0m \u001b[0msubprocess\u001b[0m\u001b[1;33m.\u001b[0m\u001b[0mrun\u001b[0m\u001b[1;33m(\u001b[0m\u001b[1;33m[\u001b[0m\u001b[1;34m\"wget\"\u001b[0m\u001b[1;33m,\u001b[0m\u001b[1;34m\"-r\"\u001b[0m\u001b[1;33m,\u001b[0m\u001b[1;34m\"-N\"\u001b[0m\u001b[1;33m,\u001b[0m\u001b[1;34m\"-c\"\u001b[0m\u001b[1;33m,\u001b[0m \u001b[1;34m\"-np\"\u001b[0m\u001b[1;33m,\u001b[0m \u001b[1;34m\"https://physionet.org/files/sleep-edfx/1.0.0/\"\u001b[0m\u001b[1;33m]\u001b[0m\u001b[1;33m,\u001b[0m \u001b[0mcwd\u001b[0m\u001b[1;33m=\u001b[0m\u001b[1;34m\"../data/Sleep-EDF\"\u001b[0m\u001b[1;33m)\u001b[0m\u001b[1;33m\u001b[0m\u001b[1;33m\u001b[0m\u001b[0m\n\u001b[0m\u001b[0;32m      3\u001b[0m \u001b[0mprint\u001b[0m\u001b[1;33m(\u001b[0m\u001b[1;34mf\"successfully got sleep-edf files\"\u001b[0m\u001b[1;33m)\u001b[0m\u001b[1;33m\u001b[0m\u001b[1;33m\u001b[0m\u001b[0m\n",
      "\u001b[1;32m~\\.conda\\envs\\BD4H\\lib\\subprocess.py\u001b[0m in \u001b[0;36mrun\u001b[1;34m(input, timeout, check, *popenargs, **kwargs)\u001b[0m\n\u001b[0;32m    421\u001b[0m         \u001b[0mkwargs\u001b[0m\u001b[1;33m[\u001b[0m\u001b[1;34m'stdin'\u001b[0m\u001b[1;33m]\u001b[0m \u001b[1;33m=\u001b[0m \u001b[0mPIPE\u001b[0m\u001b[1;33m\u001b[0m\u001b[1;33m\u001b[0m\u001b[0m\n\u001b[0;32m    422\u001b[0m \u001b[1;33m\u001b[0m\u001b[0m\n\u001b[1;32m--> 423\u001b[1;33m     \u001b[1;32mwith\u001b[0m \u001b[0mPopen\u001b[0m\u001b[1;33m(\u001b[0m\u001b[1;33m*\u001b[0m\u001b[0mpopenargs\u001b[0m\u001b[1;33m,\u001b[0m \u001b[1;33m**\u001b[0m\u001b[0mkwargs\u001b[0m\u001b[1;33m)\u001b[0m \u001b[1;32mas\u001b[0m \u001b[0mprocess\u001b[0m\u001b[1;33m:\u001b[0m\u001b[1;33m\u001b[0m\u001b[1;33m\u001b[0m\u001b[0m\n\u001b[0m\u001b[0;32m    424\u001b[0m         \u001b[1;32mtry\u001b[0m\u001b[1;33m:\u001b[0m\u001b[1;33m\u001b[0m\u001b[1;33m\u001b[0m\u001b[0m\n\u001b[0;32m    425\u001b[0m             \u001b[0mstdout\u001b[0m\u001b[1;33m,\u001b[0m \u001b[0mstderr\u001b[0m \u001b[1;33m=\u001b[0m \u001b[0mprocess\u001b[0m\u001b[1;33m.\u001b[0m\u001b[0mcommunicate\u001b[0m\u001b[1;33m(\u001b[0m\u001b[0minput\u001b[0m\u001b[1;33m,\u001b[0m \u001b[0mtimeout\u001b[0m\u001b[1;33m=\u001b[0m\u001b[0mtimeout\u001b[0m\u001b[1;33m)\u001b[0m\u001b[1;33m\u001b[0m\u001b[1;33m\u001b[0m\u001b[0m\n",
      "\u001b[1;32m~\\.conda\\envs\\BD4H\\lib\\subprocess.py\u001b[0m in \u001b[0;36m__init__\u001b[1;34m(self, args, bufsize, executable, stdin, stdout, stderr, preexec_fn, close_fds, shell, cwd, env, universal_newlines, startupinfo, creationflags, restore_signals, start_new_session, pass_fds, encoding, errors)\u001b[0m\n\u001b[0;32m    727\u001b[0m                                 \u001b[0mc2pread\u001b[0m\u001b[1;33m,\u001b[0m \u001b[0mc2pwrite\u001b[0m\u001b[1;33m,\u001b[0m\u001b[1;33m\u001b[0m\u001b[1;33m\u001b[0m\u001b[0m\n\u001b[0;32m    728\u001b[0m                                 \u001b[0merrread\u001b[0m\u001b[1;33m,\u001b[0m \u001b[0merrwrite\u001b[0m\u001b[1;33m,\u001b[0m\u001b[1;33m\u001b[0m\u001b[1;33m\u001b[0m\u001b[0m\n\u001b[1;32m--> 729\u001b[1;33m                                 restore_signals, start_new_session)\n\u001b[0m\u001b[0;32m    730\u001b[0m         \u001b[1;32mexcept\u001b[0m\u001b[1;33m:\u001b[0m\u001b[1;33m\u001b[0m\u001b[1;33m\u001b[0m\u001b[0m\n\u001b[0;32m    731\u001b[0m             \u001b[1;31m# Cleanup if the child failed starting.\u001b[0m\u001b[1;33m\u001b[0m\u001b[1;33m\u001b[0m\u001b[1;33m\u001b[0m\u001b[0m\n",
      "\u001b[1;32m~\\.conda\\envs\\BD4H\\lib\\subprocess.py\u001b[0m in \u001b[0;36m_execute_child\u001b[1;34m(self, args, executable, preexec_fn, close_fds, pass_fds, cwd, env, startupinfo, creationflags, shell, p2cread, p2cwrite, c2pread, c2pwrite, errread, errwrite, unused_restore_signals, unused_start_new_session)\u001b[0m\n\u001b[0;32m   1015\u001b[0m                                          \u001b[0menv\u001b[0m\u001b[1;33m,\u001b[0m\u001b[1;33m\u001b[0m\u001b[1;33m\u001b[0m\u001b[0m\n\u001b[0;32m   1016\u001b[0m                                          \u001b[0mos\u001b[0m\u001b[1;33m.\u001b[0m\u001b[0mfspath\u001b[0m\u001b[1;33m(\u001b[0m\u001b[0mcwd\u001b[0m\u001b[1;33m)\u001b[0m \u001b[1;32mif\u001b[0m \u001b[0mcwd\u001b[0m \u001b[1;32mis\u001b[0m \u001b[1;32mnot\u001b[0m \u001b[1;32mNone\u001b[0m \u001b[1;32melse\u001b[0m \u001b[1;32mNone\u001b[0m\u001b[1;33m,\u001b[0m\u001b[1;33m\u001b[0m\u001b[1;33m\u001b[0m\u001b[0m\n\u001b[1;32m-> 1017\u001b[1;33m                                          startupinfo)\n\u001b[0m\u001b[0;32m   1018\u001b[0m             \u001b[1;32mfinally\u001b[0m\u001b[1;33m:\u001b[0m\u001b[1;33m\u001b[0m\u001b[1;33m\u001b[0m\u001b[0m\n\u001b[0;32m   1019\u001b[0m                 \u001b[1;31m# Child is launched. Close the parent's copy of those pipe\u001b[0m\u001b[1;33m\u001b[0m\u001b[1;33m\u001b[0m\u001b[1;33m\u001b[0m\u001b[0m\n",
      "\u001b[1;31mFileNotFoundError\u001b[0m: [WinError 2] The system cannot find the file specified"
     ]
    }
   ],
   "source": [
    "import subprocess\n",
    "test = subprocess.run([\"wget\",\"-r\",\"-N\",\"-c\", \"-np\", \"https://physionet.org/files/sleep-edfx/1.0.0/\"], cwd=\"../data/Sleep-EDF\")\n",
    "print(f\"successfully got sleep-edf files\")"
   ]
  },
  {
   "cell_type": "code",
   "execution_count": 18,
   "id": "lined-eating",
   "metadata": {},
   "outputs": [],
   "source": [
    "from pyunpack import Archive\n",
    "import patoolib"
   ]
  },
  {
   "cell_type": "code",
   "execution_count": 19,
   "id": "unavailable-delicious",
   "metadata": {},
   "outputs": [],
   "source": [
    "Archive('../data/isruc-sleep/subgroupI/1.rar').extractall('../data/isruc-sleep/subgroupI/')"
   ]
  },
  {
   "cell_type": "code",
   "execution_count": null,
   "id": "tribal-windsor",
   "metadata": {},
   "outputs": [],
   "source": []
  }
 ],
 "metadata": {
  "kernelspec": {
   "display_name": "Python 3",
   "language": "python",
   "name": "python3"
  },
  "language_info": {
   "codemirror_mode": {
    "name": "ipython",
    "version": 3
   },
   "file_extension": ".py",
   "mimetype": "text/x-python",
   "name": "python",
   "nbconvert_exporter": "python",
   "pygments_lexer": "ipython3",
   "version": "3.6.12"
  }
 },
 "nbformat": 4,
 "nbformat_minor": 5
}
