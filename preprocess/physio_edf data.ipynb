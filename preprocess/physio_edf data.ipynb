{
 "cells": [
  {
   "cell_type": "code",
   "execution_count": 4,
   "id": "chicken-motivation",
   "metadata": {},
   "outputs": [],
   "source": [
    "import numpy as np\n",
    "import pandas as pd\n",
    "import matplotlib.pyplot as plt\n",
    "import ipywidgets\n",
    "from ipywidgets import FloatProgress\n",
    "import mne\n",
    "from mne.datasets.sleep_physionet.age import fetch_data\n",
    "from mne.time_frequency import psd_welch"
   ]
  },
  {
   "cell_type": "code",
   "execution_count": 5,
   "id": "abroad-memorial",
   "metadata": {},
   "outputs": [
    {
     "name": "stdout",
     "output_type": "stream",
     "text": [
      "Using default location ~/mne_data for PHYSIONET_SLEEP...\n",
      "Extracting EDF parameters from C:\\Users\\baron\\mne_data\\physionet-sleep-data\\SC4001E0-PSG.edf...\n",
      "EDF file detected\n",
      "Setting channel info structure...\n",
      "Creating raw.info structure...\n",
      "Used Annotations descriptions: ['Sleep stage 1', 'Sleep stage 2', 'Sleep stage 3', 'Sleep stage 4', 'Sleep stage R', 'Sleep stage W']\n",
      "Not setting metadata\n",
      "Not setting metadata\n",
      "841 matching events found\n",
      "No baseline correction applied\n",
      "0 projection items activated\n",
      "Loading data for 841 events and 3000 original time points ...\n",
      "0 bad epochs dropped\n",
      "Using default location ~/mne_data for PHYSIONET_SLEEP...\n",
      "Extracting EDF parameters from C:\\Users\\baron\\mne_data\\physionet-sleep-data\\SC4011E0-PSG.edf...\n",
      "EDF file detected\n",
      "Setting channel info structure...\n",
      "Creating raw.info structure...\n",
      "Used Annotations descriptions: ['Sleep stage 1', 'Sleep stage 2', 'Sleep stage 3', 'Sleep stage 4', 'Sleep stage R', 'Sleep stage W']\n",
      "Not setting metadata\n",
      "Not setting metadata\n",
      "1103 matching events found\n",
      "No baseline correction applied\n",
      "0 projection items activated\n",
      "Loading data for 1103 events and 3000 original time points ...\n",
      "0 bad epochs dropped\n",
      "Using default location ~/mne_data for PHYSIONET_SLEEP...\n",
      "Extracting EDF parameters from C:\\Users\\baron\\mne_data\\physionet-sleep-data\\SC4021E0-PSG.edf...\n",
      "EDF file detected\n",
      "Setting channel info structure...\n",
      "Creating raw.info structure...\n",
      "Used Annotations descriptions: ['Sleep stage 1', 'Sleep stage 2', 'Sleep stage 3', 'Sleep stage 4', 'Sleep stage R', 'Sleep stage W']\n",
      "Not setting metadata\n",
      "Not setting metadata\n",
      "1025 matching events found\n",
      "No baseline correction applied\n",
      "0 projection items activated\n",
      "Loading data for 1025 events and 3000 original time points ...\n",
      "0 bad epochs dropped\n",
      "Using default location ~/mne_data for PHYSIONET_SLEEP...\n",
      "Extracting EDF parameters from C:\\Users\\baron\\mne_data\\physionet-sleep-data\\SC4031E0-PSG.edf...\n",
      "EDF file detected\n",
      "Setting channel info structure...\n",
      "Creating raw.info structure...\n",
      "Used Annotations descriptions: ['Sleep stage 1', 'Sleep stage 2', 'Sleep stage 3', 'Sleep stage 4', 'Sleep stage R', 'Sleep stage W']\n",
      "Not setting metadata\n",
      "Not setting metadata\n",
      "952 matching events found\n",
      "No baseline correction applied\n",
      "0 projection items activated\n",
      "Loading data for 952 events and 3000 original time points ...\n",
      "0 bad epochs dropped\n",
      "Using default location ~/mne_data for PHYSIONET_SLEEP...\n",
      "Extracting EDF parameters from C:\\Users\\baron\\mne_data\\physionet-sleep-data\\SC4041E0-PSG.edf...\n",
      "EDF file detected\n",
      "Setting channel info structure...\n",
      "Creating raw.info structure...\n",
      "Used Annotations descriptions: ['Sleep stage 1', 'Sleep stage 2', 'Sleep stage 3', 'Sleep stage R', 'Sleep stage W']\n",
      "Not setting metadata\n",
      "Not setting metadata\n",
      "1235 matching events found\n",
      "No baseline correction applied\n",
      "0 projection items activated\n",
      "Loading data for 1235 events and 3000 original time points ...\n",
      "0 bad epochs dropped\n",
      "Using default location ~/mne_data for PHYSIONET_SLEEP...\n",
      "Extracting EDF parameters from C:\\Users\\baron\\mne_data\\physionet-sleep-data\\SC4051E0-PSG.edf...\n",
      "EDF file detected\n",
      "Setting channel info structure...\n",
      "Creating raw.info structure...\n",
      "Used Annotations descriptions: ['Sleep stage 1', 'Sleep stage 2', 'Sleep stage 3', 'Sleep stage 4', 'Sleep stage R', 'Sleep stage W']\n",
      "Not setting metadata\n",
      "Not setting metadata\n",
      "672 matching events found\n",
      "No baseline correction applied\n",
      "0 projection items activated\n",
      "Loading data for 672 events and 3000 original time points ...\n",
      "0 bad epochs dropped\n",
      "Using default location ~/mne_data for PHYSIONET_SLEEP...\n",
      "Extracting EDF parameters from C:\\Users\\baron\\mne_data\\physionet-sleep-data\\SC4061E0-PSG.edf...\n",
      "EDF file detected\n",
      "Setting channel info structure...\n",
      "Creating raw.info structure...\n",
      "Used Annotations descriptions: ['Sleep stage 1', 'Sleep stage 2', 'Sleep stage 3', 'Sleep stage 4', 'Sleep stage R', 'Sleep stage W']\n",
      "Not setting metadata\n",
      "Not setting metadata\n",
      "843 matching events found\n",
      "No baseline correction applied\n",
      "0 projection items activated\n",
      "Loading data for 843 events and 3000 original time points ...\n",
      "0 bad epochs dropped\n",
      "Using default location ~/mne_data for PHYSIONET_SLEEP...\n",
      "Extracting EDF parameters from C:\\Users\\baron\\mne_data\\physionet-sleep-data\\SC4071E0-PSG.edf...\n",
      "EDF file detected\n",
      "Setting channel info structure...\n",
      "Creating raw.info structure...\n",
      "Used Annotations descriptions: ['Sleep stage 1', 'Sleep stage 2', 'Sleep stage 3', 'Sleep stage 4', 'Sleep stage R', 'Sleep stage W']\n",
      "Not setting metadata\n",
      "Not setting metadata\n",
      "976 matching events found\n",
      "No baseline correction applied\n",
      "0 projection items activated\n",
      "Loading data for 976 events and 3000 original time points ...\n",
      "0 bad epochs dropped\n",
      "Using default location ~/mne_data for PHYSIONET_SLEEP...\n",
      "Extracting EDF parameters from C:\\Users\\baron\\mne_data\\physionet-sleep-data\\SC4081E0-PSG.edf...\n",
      "EDF file detected\n",
      "Setting channel info structure...\n",
      "Creating raw.info structure...\n",
      "Used Annotations descriptions: ['Sleep stage 1', 'Sleep stage 2', 'Sleep stage 3', 'Sleep stage 4', 'Sleep stage R', 'Sleep stage W']\n",
      "Not setting metadata\n",
      "Not setting metadata\n",
      "1134 matching events found\n",
      "No baseline correction applied\n",
      "0 projection items activated\n",
      "Loading data for 1134 events and 3000 original time points ...\n",
      "0 bad epochs dropped\n",
      "Using default location ~/mne_data for PHYSIONET_SLEEP...\n",
      "Extracting EDF parameters from C:\\Users\\baron\\mne_data\\physionet-sleep-data\\SC4091E0-PSG.edf...\n",
      "EDF file detected\n",
      "Setting channel info structure...\n",
      "Creating raw.info structure...\n",
      "Used Annotations descriptions: ['Sleep stage 1', 'Sleep stage 2', 'Sleep stage 3', 'Sleep stage 4', 'Sleep stage R', 'Sleep stage W']\n",
      "Not setting metadata\n",
      "Not setting metadata\n",
      "1132 matching events found\n",
      "No baseline correction applied\n",
      "0 projection items activated\n",
      "Loading data for 1132 events and 3000 original time points ...\n",
      "0 bad epochs dropped\n",
      "Using default location ~/mne_data for PHYSIONET_SLEEP...\n",
      "Extracting EDF parameters from C:\\Users\\baron\\mne_data\\physionet-sleep-data\\SC4101E0-PSG.edf...\n",
      "EDF file detected\n",
      "Setting channel info structure...\n",
      "Creating raw.info structure...\n",
      "Used Annotations descriptions: ['Sleep stage 1', 'Sleep stage 2', 'Sleep stage 3', 'Sleep stage R', 'Sleep stage W']\n",
      "Not setting metadata\n",
      "Not setting metadata\n",
      "1104 matching events found\n",
      "No baseline correction applied\n",
      "0 projection items activated\n",
      "Loading data for 1104 events and 3000 original time points ...\n",
      "0 bad epochs dropped\n",
      "Using default location ~/mne_data for PHYSIONET_SLEEP...\n",
      "Extracting EDF parameters from C:\\Users\\baron\\mne_data\\physionet-sleep-data\\SC4111E0-PSG.edf...\n",
      "EDF file detected\n",
      "Setting channel info structure...\n",
      "Creating raw.info structure...\n",
      "Used Annotations descriptions: ['Sleep stage 1', 'Sleep stage 2', 'Sleep stage 3', 'Sleep stage 4', 'Sleep stage R', 'Sleep stage W']\n",
      "Not setting metadata\n",
      "Not setting metadata\n",
      "928 matching events found\n",
      "No baseline correction applied\n",
      "0 projection items activated\n",
      "Loading data for 928 events and 3000 original time points ...\n",
      "0 bad epochs dropped\n",
      "Using default location ~/mne_data for PHYSIONET_SLEEP...\n",
      "Extracting EDF parameters from C:\\Users\\baron\\mne_data\\physionet-sleep-data\\SC4121E0-PSG.edf...\n",
      "EDF file detected\n",
      "Setting channel info structure...\n",
      "Creating raw.info structure...\n",
      "Used Annotations descriptions: ['Sleep stage 1', 'Sleep stage 2', 'Sleep stage 3', 'Sleep stage 4', 'Sleep stage R', 'Sleep stage W']\n",
      "Not setting metadata\n",
      "Not setting metadata\n",
      "1783 matching events found\n",
      "No baseline correction applied\n",
      "0 projection items activated\n",
      "Loading data for 1783 events and 3000 original time points ...\n",
      "0 bad epochs dropped\n",
      "Using default location ~/mne_data for PHYSIONET_SLEEP...\n",
      "Extracting EDF parameters from C:\\Users\\baron\\mne_data\\physionet-sleep-data\\SC4131E0-PSG.edf...\n",
      "EDF file detected\n",
      "Setting channel info structure...\n",
      "Creating raw.info structure...\n",
      "Used Annotations descriptions: ['Sleep stage 1', 'Sleep stage 2', 'Sleep stage 3', 'Sleep stage 4', 'Sleep stage R', 'Sleep stage W']\n",
      "Not setting metadata\n",
      "Not setting metadata\n",
      "1028 matching events found\n",
      "No baseline correction applied\n",
      "0 projection items activated\n",
      "Loading data for 1028 events and 3000 original time points ...\n",
      "0 bad epochs dropped\n",
      "Using default location ~/mne_data for PHYSIONET_SLEEP...\n",
      "Extracting EDF parameters from C:\\Users\\baron\\mne_data\\physionet-sleep-data\\SC4141E0-PSG.edf...\n"
     ]
    },
    {
     "name": "stdout",
     "output_type": "stream",
     "text": [
      "EDF file detected\n",
      "Setting channel info structure...\n",
      "Creating raw.info structure...\n",
      "Used Annotations descriptions: ['Sleep stage 1', 'Sleep stage 2', 'Sleep stage 3', 'Sleep stage 4', 'Sleep stage R', 'Sleep stage W']\n",
      "Not setting metadata\n",
      "Not setting metadata\n",
      "1004 matching events found\n",
      "No baseline correction applied\n",
      "0 projection items activated\n",
      "Loading data for 1004 events and 3000 original time points ...\n",
      "0 bad epochs dropped\n",
      "Using default location ~/mne_data for PHYSIONET_SLEEP...\n",
      "Extracting EDF parameters from C:\\Users\\baron\\mne_data\\physionet-sleep-data\\SC4151E0-PSG.edf...\n",
      "EDF file detected\n",
      "Setting channel info structure...\n",
      "Creating raw.info structure...\n",
      "Used Annotations descriptions: ['Sleep stage 1', 'Sleep stage 2', 'Sleep stage 3', 'Sleep stage 4', 'Sleep stage R', 'Sleep stage W']\n",
      "Not setting metadata\n",
      "Not setting metadata\n",
      "952 matching events found\n",
      "No baseline correction applied\n",
      "0 projection items activated\n",
      "Loading data for 952 events and 3000 original time points ...\n",
      "0 bad epochs dropped\n",
      "Using default location ~/mne_data for PHYSIONET_SLEEP...\n",
      "Extracting EDF parameters from C:\\Users\\baron\\mne_data\\physionet-sleep-data\\SC4161E0-PSG.edf...\n",
      "EDF file detected\n",
      "Setting channel info structure...\n",
      "Creating raw.info structure...\n",
      "Used Annotations descriptions: ['Sleep stage 1', 'Sleep stage 2', 'Sleep stage 3', 'Sleep stage 4', 'Sleep stage R', 'Sleep stage W']\n",
      "Not setting metadata\n",
      "Not setting metadata\n",
      "1144 matching events found\n",
      "No baseline correction applied\n",
      "0 projection items activated\n",
      "Loading data for 1144 events and 3000 original time points ...\n",
      "0 bad epochs dropped\n",
      "Using default location ~/mne_data for PHYSIONET_SLEEP...\n",
      "Extracting EDF parameters from C:\\Users\\baron\\mne_data\\physionet-sleep-data\\SC4171E0-PSG.edf...\n",
      "EDF file detected\n",
      "Setting channel info structure...\n",
      "Creating raw.info structure...\n",
      "Used Annotations descriptions: ['Sleep stage 1', 'Sleep stage 2', 'Sleep stage 3', 'Sleep stage 4', 'Sleep stage R', 'Sleep stage W']\n",
      "Not setting metadata\n",
      "Not setting metadata\n",
      "1002 matching events found\n",
      "No baseline correction applied\n",
      "0 projection items activated\n",
      "Loading data for 1002 events and 3000 original time points ...\n",
      "0 bad epochs dropped\n",
      "Using default location ~/mne_data for PHYSIONET_SLEEP...\n",
      "Extracting EDF parameters from C:\\Users\\baron\\mne_data\\physionet-sleep-data\\SC4181E0-PSG.edf...\n",
      "EDF file detected\n",
      "Setting channel info structure...\n",
      "Creating raw.info structure...\n",
      "Used Annotations descriptions: ['Sleep stage 1', 'Sleep stage 2', 'Sleep stage 3', 'Sleep stage 4', 'Sleep stage R', 'Sleep stage W']\n",
      "Not setting metadata\n",
      "Not setting metadata\n",
      "964 matching events found\n",
      "No baseline correction applied\n",
      "0 projection items activated\n",
      "Loading data for 964 events and 3000 original time points ...\n",
      "0 bad epochs dropped\n",
      "Using default location ~/mne_data for PHYSIONET_SLEEP...\n",
      "Extracting EDF parameters from C:\\Users\\baron\\mne_data\\physionet-sleep-data\\SC4191E0-PSG.edf...\n",
      "EDF file detected\n",
      "Setting channel info structure...\n",
      "Creating raw.info structure...\n",
      "Used Annotations descriptions: ['Sleep stage 1', 'Sleep stage 2', 'Sleep stage 3', 'Sleep stage 4', 'Sleep stage R', 'Sleep stage W']\n",
      "Not setting metadata\n",
      "Not setting metadata\n",
      "1535 matching events found\n",
      "No baseline correction applied\n",
      "0 projection items activated\n",
      "Loading data for 1535 events and 3000 original time points ...\n",
      "0 bad epochs dropped\n",
      "Using default location ~/mne_data for PHYSIONET_SLEEP...\n",
      "Extracting EDF parameters from C:\\Users\\baron\\mne_data\\physionet-sleep-data\\SC4201E0-PSG.edf...\n",
      "EDF file detected\n",
      "Setting channel info structure...\n",
      "Creating raw.info structure...\n",
      "Used Annotations descriptions: ['Sleep stage 1', 'Sleep stage 2', 'Sleep stage 3', 'Sleep stage R', 'Sleep stage W']\n",
      "Not setting metadata\n",
      "Not setting metadata\n",
      "1022 matching events found\n",
      "No baseline correction applied\n",
      "0 projection items activated\n",
      "Loading data for 1022 events and 3000 original time points ...\n",
      "0 bad epochs dropped\n",
      "Using default location ~/mne_data for PHYSIONET_SLEEP...\n",
      "Extracting EDF parameters from C:\\Users\\baron\\mne_data\\physionet-sleep-data\\SC4211E0-PSG.edf...\n",
      "EDF file detected\n",
      "Setting channel info structure...\n",
      "Creating raw.info structure...\n",
      "Used Annotations descriptions: ['Sleep stage 1', 'Sleep stage 2', 'Sleep stage 3', 'Sleep stage R', 'Sleep stage W']\n",
      "Not setting metadata\n",
      "Not setting metadata\n",
      "1578 matching events found\n",
      "No baseline correction applied\n",
      "0 projection items activated\n",
      "Loading data for 1578 events and 3000 original time points ...\n",
      "0 bad epochs dropped\n",
      "Using default location ~/mne_data for PHYSIONET_SLEEP...\n",
      "Extracting EDF parameters from C:\\Users\\baron\\mne_data\\physionet-sleep-data\\SC4221E0-PSG.edf...\n",
      "EDF file detected\n",
      "Setting channel info structure...\n",
      "Creating raw.info structure...\n",
      "Used Annotations descriptions: ['Sleep stage 1', 'Sleep stage 2', 'Sleep stage 3', 'Sleep stage 4', 'Sleep stage R', 'Sleep stage W']\n",
      "Not setting metadata\n",
      "Not setting metadata\n",
      "1099 matching events found\n",
      "No baseline correction applied\n",
      "0 projection items activated\n",
      "Loading data for 1099 events and 3000 original time points ...\n",
      "0 bad epochs dropped\n",
      "Using default location ~/mne_data for PHYSIONET_SLEEP...\n",
      "Extracting EDF parameters from C:\\Users\\baron\\mne_data\\physionet-sleep-data\\SC4231E0-PSG.edf...\n",
      "EDF file detected\n",
      "Setting channel info structure...\n",
      "Creating raw.info structure...\n",
      "Used Annotations descriptions: ['Sleep stage 1', 'Sleep stage 2', 'Sleep stage 3', 'Sleep stage R', 'Sleep stage W']\n",
      "Not setting metadata\n",
      "Not setting metadata\n",
      "904 matching events found\n",
      "No baseline correction applied\n",
      "0 projection items activated\n",
      "Loading data for 904 events and 3000 original time points ...\n",
      "0 bad epochs dropped\n",
      "Using default location ~/mne_data for PHYSIONET_SLEEP...\n",
      "Extracting EDF parameters from C:\\Users\\baron\\mne_data\\physionet-sleep-data\\SC4241E0-PSG.edf...\n",
      "EDF file detected\n",
      "Setting channel info structure...\n",
      "Creating raw.info structure...\n",
      "Used Annotations descriptions: ['Sleep stage 1', 'Sleep stage 2', 'Sleep stage 3', 'Sleep stage R', 'Sleep stage W']\n",
      "Not setting metadata\n",
      "Not setting metadata\n",
      "1673 matching events found\n",
      "No baseline correction applied\n",
      "0 projection items activated\n",
      "Loading data for 1673 events and 3000 original time points ...\n",
      "0 bad epochs dropped\n",
      "Using default location ~/mne_data for PHYSIONET_SLEEP...\n",
      "Extracting EDF parameters from C:\\Users\\baron\\mne_data\\physionet-sleep-data\\SC4251E0-PSG.edf...\n",
      "EDF file detected\n",
      "Setting channel info structure...\n",
      "Creating raw.info structure...\n",
      "Used Annotations descriptions: ['Sleep stage 1', 'Sleep stage 2', 'Sleep stage 3', 'Sleep stage R', 'Sleep stage W']\n",
      "Not setting metadata\n",
      "Not setting metadata\n",
      "972 matching events found\n",
      "No baseline correction applied\n",
      "0 projection items activated\n",
      "Loading data for 972 events and 3000 original time points ...\n",
      "0 bad epochs dropped\n",
      "Using default location ~/mne_data for PHYSIONET_SLEEP...\n",
      "Extracting EDF parameters from C:\\Users\\baron\\mne_data\\physionet-sleep-data\\SC4261F0-PSG.edf...\n",
      "EDF file detected\n",
      "Setting channel info structure...\n",
      "Creating raw.info structure...\n",
      "Used Annotations descriptions: ['Sleep stage 1', 'Sleep stage 2', 'Sleep stage 3', 'Sleep stage 4', 'Sleep stage R', 'Sleep stage W']\n",
      "Not setting metadata\n",
      "Not setting metadata\n",
      "1597 matching events found\n",
      "No baseline correction applied\n",
      "0 projection items activated\n",
      "Loading data for 1597 events and 3000 original time points ...\n",
      "0 bad epochs dropped\n",
      "Using default location ~/mne_data for PHYSIONET_SLEEP...\n",
      "Extracting EDF parameters from C:\\Users\\baron\\mne_data\\physionet-sleep-data\\SC4271F0-PSG.edf...\n",
      "EDF file detected\n",
      "Setting channel info structure...\n",
      "Creating raw.info structure...\n",
      "Used Annotations descriptions: ['Sleep stage 1', 'Sleep stage 2', 'Sleep stage 3', 'Sleep stage 4', 'Sleep stage R', 'Sleep stage W']\n",
      "Not setting metadata\n",
      "Not setting metadata\n",
      "1052 matching events found\n",
      "No baseline correction applied\n",
      "0 projection items activated\n",
      "Loading data for 1052 events and 3000 original time points ...\n",
      "0 bad epochs dropped\n",
      "Using default location ~/mne_data for PHYSIONET_SLEEP...\n",
      "Extracting EDF parameters from C:\\Users\\baron\\mne_data\\physionet-sleep-data\\SC4281G0-PSG.edf...\n",
      "EDF file detected\n",
      "Setting channel info structure...\n",
      "Creating raw.info structure...\n",
      "Used Annotations descriptions: ['Sleep stage 1', 'Sleep stage 2', 'Sleep stage 3', 'Sleep stage 4', 'Sleep stage R', 'Sleep stage W']\n"
     ]
    },
    {
     "name": "stdout",
     "output_type": "stream",
     "text": [
      "Not setting metadata\n",
      "Not setting metadata\n",
      "1127 matching events found\n",
      "No baseline correction applied\n",
      "0 projection items activated\n",
      "Loading data for 1127 events and 3000 original time points ...\n",
      "0 bad epochs dropped\n",
      "Using default location ~/mne_data for PHYSIONET_SLEEP...\n",
      "Extracting EDF parameters from C:\\Users\\baron\\mne_data\\physionet-sleep-data\\SC4291G0-PSG.edf...\n",
      "EDF file detected\n",
      "Setting channel info structure...\n",
      "Creating raw.info structure...\n",
      "Used Annotations descriptions: ['Sleep stage 1', 'Sleep stage 2', 'Sleep stage 3', 'Sleep stage 4', 'Sleep stage R', 'Sleep stage W']\n",
      "Not setting metadata\n",
      "Not setting metadata\n",
      "1131 matching events found\n",
      "No baseline correction applied\n",
      "0 projection items activated\n",
      "Loading data for 1131 events and 3000 original time points ...\n",
      "0 bad epochs dropped\n",
      "Using default location ~/mne_data for PHYSIONET_SLEEP...\n",
      "Extracting EDF parameters from C:\\Users\\baron\\mne_data\\physionet-sleep-data\\SC4301E0-PSG.edf...\n",
      "EDF file detected\n",
      "Setting channel info structure...\n",
      "Creating raw.info structure...\n",
      "Used Annotations descriptions: ['Sleep stage 1', 'Sleep stage 2', 'Sleep stage 3', 'Sleep stage R', 'Sleep stage W']\n",
      "Not setting metadata\n",
      "Not setting metadata\n",
      "929 matching events found\n",
      "No baseline correction applied\n",
      "0 projection items activated\n",
      "Loading data for 929 events and 3000 original time points ...\n",
      "0 bad epochs dropped\n",
      "Using default location ~/mne_data for PHYSIONET_SLEEP...\n",
      "Extracting EDF parameters from C:\\Users\\baron\\mne_data\\physionet-sleep-data\\SC4311E0-PSG.edf...\n",
      "EDF file detected\n",
      "Setting channel info structure...\n",
      "Creating raw.info structure...\n",
      "Used Annotations descriptions: ['Sleep stage 1', 'Sleep stage 2', 'Sleep stage 3', 'Sleep stage 4', 'Sleep stage R', 'Sleep stage W']\n",
      "Not setting metadata\n",
      "Not setting metadata\n",
      "1054 matching events found\n",
      "No baseline correction applied\n",
      "0 projection items activated\n",
      "Loading data for 1054 events and 3000 original time points ...\n",
      "0 bad epochs dropped\n",
      "Using default location ~/mne_data for PHYSIONET_SLEEP...\n",
      "Extracting EDF parameters from C:\\Users\\baron\\mne_data\\physionet-sleep-data\\SC4321E0-PSG.edf...\n",
      "EDF file detected\n",
      "Setting channel info structure...\n",
      "Creating raw.info structure...\n",
      "Used Annotations descriptions: ['Sleep stage 1', 'Sleep stage 2', 'Sleep stage R', 'Sleep stage W']\n",
      "Using default location ~/mne_data for PHYSIONET_SLEEP...\n",
      "Downloading https://physionet.org/physiobank/database/sleep-edfx/sleep-cassette//SC4331F0-PSG.edf (48.9 MB)\n"
     ]
    },
    {
     "data": {
      "application/vnd.jupyter.widget-view+json": {
       "model_id": "ad11756a5d8c4e91a5266735bb0310b2",
       "version_major": 2,
       "version_minor": 0
      },
      "text/plain": [
       "HBox(children=(FloatProgress(value=0.0, description='Downloading', max=51256448.0, style=ProgressStyle(descrip…"
      ]
     },
     "metadata": {},
     "output_type": "display_data"
    },
    {
     "name": "stdout",
     "output_type": "stream",
     "text": [
      "\n",
      "Verifying hash f37cb4df27286e38c604cae943169ff29b1473fc.\n",
      "Downloading https://physionet.org/physiobank/database/sleep-edfx/sleep-cassette//SC4331FV-Hypnogram.edf (4 kB)\n"
     ]
    },
    {
     "data": {
      "application/vnd.jupyter.widget-view+json": {
       "model_id": "1a5de95935024503a2caecdc5376ef6f",
       "version_major": 2,
       "version_minor": 0
      },
      "text/plain": [
       "HBox(children=(FloatProgress(value=0.0, description='Downloading', max=3790.0, style=ProgressStyle(description…"
      ]
     },
     "metadata": {},
     "output_type": "display_data"
    },
    {
     "name": "stdout",
     "output_type": "stream",
     "text": [
      "\n",
      "Verifying hash ca943e2b73c6404f929c372ebd817b7b3b71b4dd.\n",
      "Extracting EDF parameters from C:\\Users\\baron\\mne_data\\physionet-sleep-data\\SC4331F0-PSG.edf...\n",
      "EDF file detected\n",
      "Setting channel info structure...\n",
      "Creating raw.info structure...\n",
      "Used Annotations descriptions: ['Sleep stage 1', 'Sleep stage 2', 'Sleep stage R', 'Sleep stage W']\n",
      "Using default location ~/mne_data for PHYSIONET_SLEEP...\n",
      "Downloading https://physionet.org/physiobank/database/sleep-edfx/sleep-cassette//SC4341F0-PSG.edf (47.8 MB)\n"
     ]
    },
    {
     "data": {
      "application/vnd.jupyter.widget-view+json": {
       "model_id": "e38901a9f38541fbbf60b328d50bd697",
       "version_major": 2,
       "version_minor": 0
      },
      "text/plain": [
       "HBox(children=(FloatProgress(value=0.0, description='Downloading', max=50162048.0, style=ProgressStyle(descrip…"
      ]
     },
     "metadata": {},
     "output_type": "display_data"
    },
    {
     "name": "stdout",
     "output_type": "stream",
     "text": [
      "\n",
      "Verifying hash 17de25c8f023fe632aa403a6d9525c1cde8eaef5.\n",
      "Downloading https://physionet.org/physiobank/database/sleep-edfx/sleep-cassette//SC4341FA-Hypnogram.edf (2 kB)\n"
     ]
    },
    {
     "data": {
      "application/vnd.jupyter.widget-view+json": {
       "model_id": "f5c4bbb62054450abd2f1b6791f1a0cc",
       "version_major": 2,
       "version_minor": 0
      },
      "text/plain": [
       "HBox(children=(FloatProgress(value=0.0, description='Downloading', max=1872.0, style=ProgressStyle(description…"
      ]
     },
     "metadata": {},
     "output_type": "display_data"
    },
    {
     "name": "stdout",
     "output_type": "stream",
     "text": [
      "\n",
      "Verifying hash 81ba3c0d8320c9ee306f678b4bc9e6e266165886.\n",
      "Extracting EDF parameters from C:\\Users\\baron\\mne_data\\physionet-sleep-data\\SC4341F0-PSG.edf...\n",
      "EDF file detected\n",
      "Setting channel info structure...\n",
      "Creating raw.info structure...\n",
      "Used Annotations descriptions: ['Sleep stage 1', 'Sleep stage 2', 'Sleep stage R', 'Sleep stage W']\n",
      "Using default location ~/mne_data for PHYSIONET_SLEEP...\n",
      "Downloading https://physionet.org/physiobank/database/sleep-edfx/sleep-cassette//SC4351F0-PSG.edf (47.1 MB)\n"
     ]
    },
    {
     "data": {
      "application/vnd.jupyter.widget-view+json": {
       "model_id": "086bb2bdabf449e284414a7085003533",
       "version_major": 2,
       "version_minor": 0
      },
      "text/plain": [
       "HBox(children=(FloatProgress(value=0.0, description='Downloading', max=49432448.0, style=ProgressStyle(descrip…"
      ]
     },
     "metadata": {},
     "output_type": "display_data"
    },
    {
     "name": "stdout",
     "output_type": "stream",
     "text": [
      "\n",
      "Verifying hash 631900bef36d359a0f5807a7e1b202f80b0427ac.\n",
      "Downloading https://physionet.org/physiobank/database/sleep-edfx/sleep-cassette//SC4351FA-Hypnogram.edf (4 kB)\n"
     ]
    },
    {
     "data": {
      "application/vnd.jupyter.widget-view+json": {
       "model_id": "e1cd0fc03cd04808be4eb6aa1a13d76f",
       "version_major": 2,
       "version_minor": 0
      },
      "text/plain": [
       "HBox(children=(FloatProgress(value=0.0, description='Downloading', max=4592.0, style=ProgressStyle(description…"
      ]
     },
     "metadata": {},
     "output_type": "display_data"
    },
    {
     "name": "stdout",
     "output_type": "stream",
     "text": [
      "\n",
      "Verifying hash a15cdf3973b77198d8276dc505dbb35cb39a9b4a.\n",
      "Extracting EDF parameters from C:\\Users\\baron\\mne_data\\physionet-sleep-data\\SC4351F0-PSG.edf...\n",
      "EDF file detected\n",
      "Setting channel info structure...\n",
      "Creating raw.info structure...\n",
      "Used Annotations descriptions: ['Sleep stage 1', 'Sleep stage 2', 'Sleep stage 3', 'Sleep stage R', 'Sleep stage W']\n",
      "Not setting metadata\n",
      "Not setting metadata\n",
      "976 matching events found\n",
      "No baseline correction applied\n",
      "0 projection items activated\n",
      "Loading data for 976 events and 3000 original time points ...\n",
      "0 bad epochs dropped\n",
      "Using default location ~/mne_data for PHYSIONET_SLEEP...\n",
      "Downloading https://physionet.org/physiobank/database/sleep-edfx/sleep-cassette//SC4371F0-PSG.edf (49.6 MB)\n"
     ]
    },
    {
     "data": {
      "application/vnd.jupyter.widget-view+json": {
       "model_id": "84362488766645348022bcc932a860ec",
       "version_major": 2,
       "version_minor": 0
      },
      "text/plain": [
       "HBox(children=(FloatProgress(value=0.0, description='Downloading', max=51986048.0, style=ProgressStyle(descrip…"
      ]
     },
     "metadata": {},
     "output_type": "display_data"
    },
    {
     "name": "stdout",
     "output_type": "stream",
     "text": [
      "\n",
      "Verifying hash 0dc56fce13b6317f197d0b17c04f5be4af1c964f.\n",
      "Downloading https://physionet.org/physiobank/database/sleep-edfx/sleep-cassette//SC4371FA-Hypnogram.edf (3 kB)\n"
     ]
    },
    {
     "data": {
      "application/vnd.jupyter.widget-view+json": {
       "model_id": "6f645802127d460abb365540904d9448",
       "version_major": 2,
       "version_minor": 0
      },
      "text/plain": [
       "HBox(children=(FloatProgress(value=0.0, description='Downloading', max=3286.0, style=ProgressStyle(description…"
      ]
     },
     "metadata": {},
     "output_type": "display_data"
    },
    {
     "name": "stdout",
     "output_type": "stream",
     "text": [
      "\n",
      "Verifying hash c19b6cbfdf3a33169ce9b4a5dc94f93b696a21ba.\n",
      "Extracting EDF parameters from C:\\Users\\baron\\mne_data\\physionet-sleep-data\\SC4371F0-PSG.edf...\n",
      "EDF file detected\n",
      "Setting channel info structure...\n",
      "Creating raw.info structure...\n",
      "Used Annotations descriptions: ['Sleep stage 1', 'Sleep stage 2', 'Sleep stage 3', 'Sleep stage R', 'Sleep stage W']\n",
      "Not setting metadata\n",
      "Not setting metadata\n",
      "918 matching events found\n",
      "No baseline correction applied\n",
      "0 projection items activated\n",
      "Loading data for 918 events and 3000 original time points ...\n",
      "0 bad epochs dropped\n",
      "Using default location ~/mne_data for PHYSIONET_SLEEP...\n",
      "Downloading https://physionet.org/physiobank/database/sleep-edfx/sleep-cassette//SC4381F0-PSG.edf (47.8 MB)\n"
     ]
    },
    {
     "data": {
      "application/vnd.jupyter.widget-view+json": {
       "model_id": "8cf1bea4ff144e4f9b1f719a0ba35fff",
       "version_major": 2,
       "version_minor": 0
      },
      "text/plain": [
       "HBox(children=(FloatProgress(value=0.0, description='Downloading', max=50162048.0, style=ProgressStyle(descrip…"
      ]
     },
     "metadata": {},
     "output_type": "display_data"
    },
    {
     "name": "stdout",
     "output_type": "stream",
     "text": [
      "\n",
      "Verifying hash 6098d2b501b82ca0ddc8893547c6990e204e8ba6.\n",
      "Downloading https://physionet.org/physiobank/database/sleep-edfx/sleep-cassette//SC4381FC-Hypnogram.edf (2 kB)\n"
     ]
    },
    {
     "data": {
      "application/vnd.jupyter.widget-view+json": {
       "model_id": "6f1433b4128641b0a1c9d95cad1906b4",
       "version_major": 2,
       "version_minor": 0
      },
      "text/plain": [
       "HBox(children=(FloatProgress(value=0.0, description='Downloading', max=2408.0, style=ProgressStyle(description…"
      ]
     },
     "metadata": {},
     "output_type": "display_data"
    },
    {
     "name": "stdout",
     "output_type": "stream",
     "text": [
      "\n",
      "Verifying hash fdbf653a4a675843c97d0a76ef5e4cebf5d2dbcb.\n",
      "Extracting EDF parameters from C:\\Users\\baron\\mne_data\\physionet-sleep-data\\SC4381F0-PSG.edf...\n",
      "EDF file detected\n",
      "Setting channel info structure...\n",
      "Creating raw.info structure...\n",
      "Used Annotations descriptions: ['Sleep stage 1', 'Sleep stage 2', 'Sleep stage 3', 'Sleep stage R', 'Sleep stage W']\n",
      "Not setting metadata\n",
      "Not setting metadata\n",
      "1776 matching events found\n",
      "No baseline correction applied\n",
      "0 projection items activated\n",
      "Loading data for 1776 events and 3000 original time points ...\n",
      "0 bad epochs dropped\n",
      "Using default location ~/mne_data for PHYSIONET_SLEEP...\n",
      "Downloading https://physionet.org/physiobank/database/sleep-edfx/sleep-cassette//SC4401E0-PSG.edf (45.8 MB)\n"
     ]
    },
    {
     "data": {
      "application/vnd.jupyter.widget-view+json": {
       "model_id": "fa64b9e8d8b942acb904c6c96a64774d",
       "version_major": 2,
       "version_minor": 0
      },
      "text/plain": [
       "HBox(children=(FloatProgress(value=0.0, description='Downloading', max=47973248.0, style=ProgressStyle(descrip…"
      ]
     },
     "metadata": {},
     "output_type": "display_data"
    },
    {
     "name": "stdout",
     "output_type": "stream",
     "text": [
      "\n",
      "Verifying hash 28fd8ad1aee307847e2eb579763ebca18e56f540.\n",
      "Downloading https://physionet.org/physiobank/database/sleep-edfx/sleep-cassette//SC4401EC-Hypnogram.edf (3 kB)\n"
     ]
    },
    {
     "data": {
      "application/vnd.jupyter.widget-view+json": {
       "model_id": "7ccdd66666fb42909e49eb1774375c4a",
       "version_major": 2,
       "version_minor": 0
      },
      "text/plain": [
       "HBox(children=(FloatProgress(value=0.0, description='Downloading', max=2992.0, style=ProgressStyle(description…"
      ]
     },
     "metadata": {},
     "output_type": "display_data"
    },
    {
     "name": "stdout",
     "output_type": "stream",
     "text": [
      "\n",
      "Verifying hash 65b5671a89871351ee3da7ea800aad276a445b2a.\n",
      "Extracting EDF parameters from C:\\Users\\baron\\mne_data\\physionet-sleep-data\\SC4401E0-PSG.edf...\n",
      "EDF file detected\n",
      "Setting channel info structure...\n",
      "Creating raw.info structure...\n",
      "Used Annotations descriptions: ['Sleep stage 1', 'Sleep stage 2', 'Sleep stage 3', 'Sleep stage R', 'Sleep stage W']\n",
      "Not setting metadata\n",
      "Not setting metadata\n",
      "1064 matching events found\n",
      "No baseline correction applied\n",
      "0 projection items activated\n",
      "Loading data for 1064 events and 3000 original time points ...\n",
      "0 bad epochs dropped\n",
      "Using default location ~/mne_data for PHYSIONET_SLEEP...\n",
      "Downloading https://physionet.org/physiobank/database/sleep-edfx/sleep-cassette//SC4411E0-PSG.edf (47.5 MB)\n"
     ]
    },
    {
     "data": {
      "application/vnd.jupyter.widget-view+json": {
       "model_id": "c953c012f5d54974a7d53d5d538ec80c",
       "version_major": 2,
       "version_minor": 0
      },
      "text/plain": [
       "HBox(children=(FloatProgress(value=0.0, description='Downloading', max=49760768.0, style=ProgressStyle(descrip…"
      ]
     },
     "metadata": {},
     "output_type": "display_data"
    },
    {
     "name": "stdout",
     "output_type": "stream",
     "text": [
      "\n",
      "Verifying hash 30a533b67fdb2adac6a4e83088a07fe1bbaddb6c.\n",
      "Downloading https://physionet.org/physiobank/database/sleep-edfx/sleep-cassette//SC4411EJ-Hypnogram.edf (5 kB)\n"
     ]
    },
    {
     "data": {
      "application/vnd.jupyter.widget-view+json": {
       "model_id": "970d2d2a62fa4f9cbc216fae497eef5a",
       "version_major": 2,
       "version_minor": 0
      },
      "text/plain": [
       "HBox(children=(FloatProgress(value=0.0, description='Downloading', max=5284.0, style=ProgressStyle(description…"
      ]
     },
     "metadata": {},
     "output_type": "display_data"
    },
    {
     "name": "stdout",
     "output_type": "stream",
     "text": [
      "\n",
      "Verifying hash 5df1bf20d4f29b95a2bdde853b2a157dd9530a8a.\n",
      "Extracting EDF parameters from C:\\Users\\baron\\mne_data\\physionet-sleep-data\\SC4411E0-PSG.edf...\n",
      "EDF file detected\n",
      "Setting channel info structure...\n",
      "Creating raw.info structure...\n",
      "Used Annotations descriptions: ['Sleep stage 1', 'Sleep stage 2', 'Sleep stage 3', 'Sleep stage 4', 'Sleep stage R', 'Sleep stage W']\n",
      "Not setting metadata\n",
      "Not setting metadata\n",
      "1078 matching events found\n",
      "No baseline correction applied\n",
      "0 projection items activated\n",
      "Loading data for 1078 events and 3000 original time points ...\n",
      "0 bad epochs dropped\n",
      "Using default location ~/mne_data for PHYSIONET_SLEEP...\n",
      "Downloading https://physionet.org/physiobank/database/sleep-edfx/sleep-cassette//SC4421E0-PSG.edf (48.1 MB)\n"
     ]
    },
    {
     "data": {
      "application/vnd.jupyter.widget-view+json": {
       "model_id": "4c0e3376188c4e9f8531158fc22bd4f4",
       "version_major": 2,
       "version_minor": 0
      },
      "text/plain": [
       "HBox(children=(FloatProgress(value=0.0, description='Downloading', max=50417408.0, style=ProgressStyle(descrip…"
      ]
     },
     "metadata": {},
     "output_type": "display_data"
    },
    {
     "name": "stdout",
     "output_type": "stream",
     "text": [
      "\n",
      "Verifying hash e8a5d9e0f160ae7bd0b35d75d77b4c872daa30f8.\n",
      "Downloading https://physionet.org/physiobank/database/sleep-edfx/sleep-cassette//SC4421EA-Hypnogram.edf (4 kB)\n"
     ]
    },
    {
     "data": {
      "application/vnd.jupyter.widget-view+json": {
       "model_id": "5857df209579418fbeae0c88b924d2df",
       "version_major": 2,
       "version_minor": 0
      },
      "text/plain": [
       "HBox(children=(FloatProgress(value=0.0, description='Downloading', max=3894.0, style=ProgressStyle(description…"
      ]
     },
     "metadata": {},
     "output_type": "display_data"
    },
    {
     "name": "stdout",
     "output_type": "stream",
     "text": [
      "\n",
      "Verifying hash d2e34f9bcaac7af23da4448f742ac6ea3c895ed9.\n",
      "Extracting EDF parameters from C:\\Users\\baron\\mne_data\\physionet-sleep-data\\SC4421E0-PSG.edf...\n",
      "EDF file detected\n",
      "Setting channel info structure...\n",
      "Creating raw.info structure...\n",
      "Used Annotations descriptions: ['Sleep stage 1', 'Sleep stage 2', 'Sleep stage 3', 'Sleep stage 4', 'Sleep stage R', 'Sleep stage W']\n",
      "Not setting metadata\n",
      "Not setting metadata\n",
      "785 matching events found\n",
      "No baseline correction applied\n",
      "0 projection items activated\n",
      "Loading data for 785 events and 3000 original time points ...\n",
      "0 bad epochs dropped\n",
      "Using default location ~/mne_data for PHYSIONET_SLEEP...\n",
      "Downloading https://physionet.org/physiobank/database/sleep-edfx/sleep-cassette//SC4431E0-PSG.edf (48.9 MB)\n"
     ]
    },
    {
     "data": {
      "application/vnd.jupyter.widget-view+json": {
       "model_id": "c5f41b14c50e4396841e67e601b4c9c7",
       "version_major": 2,
       "version_minor": 0
      },
      "text/plain": [
       "HBox(children=(FloatProgress(value=0.0, description='Downloading', max=51256448.0, style=ProgressStyle(descrip…"
      ]
     },
     "metadata": {},
     "output_type": "display_data"
    },
    {
     "name": "stdout",
     "output_type": "stream",
     "text": [
      "\n",
      "Verifying hash 194ae942cf80764e81b4cdabeed9e5a57916aab3.\n",
      "Downloading https://physionet.org/physiobank/database/sleep-edfx/sleep-cassette//SC4431EM-Hypnogram.edf (3 kB)\n"
     ]
    },
    {
     "data": {
      "application/vnd.jupyter.widget-view+json": {
       "model_id": "47c07c3180934e6c8992e8ba33ab2e3a",
       "version_major": 2,
       "version_minor": 0
      },
      "text/plain": [
       "HBox(children=(FloatProgress(value=0.0, description='Downloading', max=3454.0, style=ProgressStyle(description…"
      ]
     },
     "metadata": {},
     "output_type": "display_data"
    },
    {
     "name": "stdout",
     "output_type": "stream",
     "text": [
      "\n",
      "Verifying hash 497ad7e671edab6e7adc9d35a6aa45b7fd9a706b.\n",
      "Extracting EDF parameters from C:\\Users\\baron\\mne_data\\physionet-sleep-data\\SC4431E0-PSG.edf...\n",
      "EDF file detected\n",
      "Setting channel info structure...\n",
      "Creating raw.info structure...\n",
      "Used Annotations descriptions: ['Sleep stage 1', 'Sleep stage 2', 'Sleep stage 3', 'Sleep stage 4', 'Sleep stage R', 'Sleep stage W']\n",
      "Not setting metadata\n",
      "Not setting metadata\n",
      "699 matching events found\n",
      "No baseline correction applied\n",
      "0 projection items activated\n",
      "Loading data for 699 events and 3000 original time points ...\n",
      "0 bad epochs dropped\n",
      "Using default location ~/mne_data for PHYSIONET_SLEEP...\n",
      "Downloading https://physionet.org/physiobank/database/sleep-edfx/sleep-cassette//SC4441E0-PSG.edf (45.6 MB)\n"
     ]
    },
    {
     "data": {
      "application/vnd.jupyter.widget-view+json": {
       "model_id": "8c9158999fd8418f90eb122975f4f173",
       "version_major": 2,
       "version_minor": 0
      },
      "text/plain": [
       "HBox(children=(FloatProgress(value=0.0, description='Downloading', max=47790848.0, style=ProgressStyle(descrip…"
      ]
     },
     "metadata": {},
     "output_type": "display_data"
    },
    {
     "name": "stdout",
     "output_type": "stream",
     "text": [
      "\n",
      "Verifying hash e3a09d832cb79b0095d7a311ef1b6ed7c569b79d.\n",
      "Downloading https://physionet.org/physiobank/database/sleep-edfx/sleep-cassette//SC4441EC-Hypnogram.edf (4 kB)\n"
     ]
    },
    {
     "data": {
      "application/vnd.jupyter.widget-view+json": {
       "model_id": "de8e0fbf3e6a42748db3ad04001d6ee7",
       "version_major": 2,
       "version_minor": 0
      },
      "text/plain": [
       "HBox(children=(FloatProgress(value=0.0, description='Downloading', max=4160.0, style=ProgressStyle(description…"
      ]
     },
     "metadata": {},
     "output_type": "display_data"
    },
    {
     "name": "stdout",
     "output_type": "stream",
     "text": [
      "\n",
      "Verifying hash 68d4e44ad54069701972df66d8a81b4ca434bf2f.\n",
      "Extracting EDF parameters from C:\\Users\\baron\\mne_data\\physionet-sleep-data\\SC4441E0-PSG.edf...\n",
      "EDF file detected\n",
      "Setting channel info structure...\n",
      "Creating raw.info structure...\n",
      "Used Annotations descriptions: ['Sleep stage 1', 'Sleep stage 2', 'Sleep stage 3', 'Sleep stage 4', 'Sleep stage R', 'Sleep stage W']\n",
      "Not setting metadata\n",
      "Not setting metadata\n",
      "1195 matching events found\n",
      "No baseline correction applied\n",
      "0 projection items activated\n",
      "Loading data for 1195 events and 3000 original time points ...\n",
      "0 bad epochs dropped\n",
      "Using default location ~/mne_data for PHYSIONET_SLEEP...\n",
      "Downloading https://physionet.org/physiobank/database/sleep-edfx/sleep-cassette//SC4451F0-PSG.edf (48.5 MB)\n"
     ]
    },
    {
     "data": {
      "application/vnd.jupyter.widget-view+json": {
       "model_id": "e991d3e6da824270a0617173238761c0",
       "version_major": 2,
       "version_minor": 0
      },
      "text/plain": [
       "HBox(children=(FloatProgress(value=0.0, description='Downloading', max=50891648.0, style=ProgressStyle(descrip…"
      ]
     },
     "metadata": {},
     "output_type": "display_data"
    },
    {
     "name": "stdout",
     "output_type": "stream",
     "text": [
      "\n",
      "Verifying hash 315db0f9d91988ddc2b198f89cc22f96190eff71.\n",
      "Downloading https://physionet.org/physiobank/database/sleep-edfx/sleep-cassette//SC4451FY-Hypnogram.edf (6 kB)\n"
     ]
    },
    {
     "data": {
      "application/vnd.jupyter.widget-view+json": {
       "model_id": "746e99b5ee5f44aba511567f9555b7fb",
       "version_major": 2,
       "version_minor": 0
      },
      "text/plain": [
       "HBox(children=(FloatProgress(value=0.0, description='Downloading', max=6224.0, style=ProgressStyle(description…"
      ]
     },
     "metadata": {},
     "output_type": "display_data"
    },
    {
     "name": "stdout",
     "output_type": "stream",
     "text": [
      "\n",
      "Verifying hash bc1f755c3367e378091c44481948a72fc7a928e5.\n",
      "Extracting EDF parameters from C:\\Users\\baron\\mne_data\\physionet-sleep-data\\SC4451F0-PSG.edf...\n",
      "EDF file detected\n",
      "Setting channel info structure...\n",
      "Creating raw.info structure...\n",
      "Used Annotations descriptions: ['Sleep stage 1', 'Sleep stage 2', 'Sleep stage 3', 'Sleep stage 4', 'Sleep stage R', 'Sleep stage W']\n",
      "Not setting metadata\n",
      "Not setting metadata\n",
      "1208 matching events found\n",
      "No baseline correction applied\n",
      "0 projection items activated\n",
      "Loading data for 1208 events and 3000 original time points ...\n",
      "0 bad epochs dropped\n",
      "Using default location ~/mne_data for PHYSIONET_SLEEP...\n",
      "Downloading https://physionet.org/physiobank/database/sleep-edfx/sleep-cassette//SC4461F0-PSG.edf (46.9 MB)\n"
     ]
    },
    {
     "data": {
      "application/vnd.jupyter.widget-view+json": {
       "model_id": "75f07f6270c043149b4e4d56aba7c57e",
       "version_major": 2,
       "version_minor": 0
      },
      "text/plain": [
       "HBox(children=(FloatProgress(value=0.0, description='Downloading', max=49177088.0, style=ProgressStyle(descrip…"
      ]
     },
     "metadata": {},
     "output_type": "display_data"
    },
    {
     "name": "stdout",
     "output_type": "stream",
     "text": [
      "\n",
      "Verifying hash e4295014c6d4474d8f7f7792c2ea088eb9e43e9f.\n",
      "Downloading https://physionet.org/physiobank/database/sleep-edfx/sleep-cassette//SC4461FA-Hypnogram.edf (3 kB)\n"
     ]
    },
    {
     "data": {
      "application/vnd.jupyter.widget-view+json": {
       "model_id": "977378a903b944c4b4fd2fcf6462e035",
       "version_major": 2,
       "version_minor": 0
      },
      "text/plain": [
       "HBox(children=(FloatProgress(value=0.0, description='Downloading', max=3152.0, style=ProgressStyle(description…"
      ]
     },
     "metadata": {},
     "output_type": "display_data"
    },
    {
     "name": "stdout",
     "output_type": "stream",
     "text": [
      "\n",
      "Verifying hash 8980e770e58e5704bd36124f6b6bd8d5e3506e12.\n",
      "Extracting EDF parameters from C:\\Users\\baron\\mne_data\\physionet-sleep-data\\SC4461F0-PSG.edf...\n",
      "EDF file detected\n",
      "Setting channel info structure...\n",
      "Creating raw.info structure...\n",
      "Used Annotations descriptions: ['Sleep stage 1', 'Sleep stage 2', 'Sleep stage 3', 'Sleep stage R', 'Sleep stage W']\n",
      "Not setting metadata\n",
      "Not setting metadata\n",
      "983 matching events found\n",
      "No baseline correction applied\n",
      "0 projection items activated\n",
      "Loading data for 983 events and 3000 original time points ...\n",
      "0 bad epochs dropped\n",
      "Using default location ~/mne_data for PHYSIONET_SLEEP...\n",
      "Downloading https://physionet.org/physiobank/database/sleep-edfx/sleep-cassette//SC4471F0-PSG.edf (47.7 MB)\n"
     ]
    },
    {
     "data": {
      "application/vnd.jupyter.widget-view+json": {
       "model_id": "b835817750c341e7a0fc4cdfe43e121c",
       "version_major": 2,
       "version_minor": 0
      },
      "text/plain": [
       "HBox(children=(FloatProgress(value=0.0, description='Downloading', max=49979648.0, style=ProgressStyle(descrip…"
      ]
     },
     "metadata": {},
     "output_type": "display_data"
    },
    {
     "name": "stdout",
     "output_type": "stream",
     "text": [
      "\n",
      "Verifying hash 05d71b55de4c86791195391b1cec8b35e447922d.\n",
      "Downloading https://physionet.org/physiobank/database/sleep-edfx/sleep-cassette//SC4471FA-Hypnogram.edf (7 kB)\n"
     ]
    },
    {
     "data": {
      "application/vnd.jupyter.widget-view+json": {
       "model_id": "14c6c45e2b854a2d9e74c9f5ab379dca",
       "version_major": 2,
       "version_minor": 0
      },
      "text/plain": [
       "HBox(children=(FloatProgress(value=0.0, description='Downloading', max=7088.0, style=ProgressStyle(description…"
      ]
     },
     "metadata": {},
     "output_type": "display_data"
    },
    {
     "name": "stdout",
     "output_type": "stream",
     "text": [
      "\n",
      "Verifying hash ee235454dbfe947432f3f813c9a6384f6e42d36a.\n",
      "Extracting EDF parameters from C:\\Users\\baron\\mne_data\\physionet-sleep-data\\SC4471F0-PSG.edf...\n",
      "EDF file detected\n",
      "Setting channel info structure...\n",
      "Creating raw.info structure...\n",
      "Used Annotations descriptions: ['Sleep stage 1', 'Sleep stage 2', 'Sleep stage 3', 'Sleep stage 4', 'Sleep stage R', 'Sleep stage W']\n",
      "Not setting metadata\n",
      "Not setting metadata\n",
      "1187 matching events found\n",
      "No baseline correction applied\n",
      "0 projection items activated\n",
      "Loading data for 1187 events and 3000 original time points ...\n",
      "0 bad epochs dropped\n",
      "Using default location ~/mne_data for PHYSIONET_SLEEP...\n",
      "Downloading https://physionet.org/physiobank/database/sleep-edfx/sleep-cassette//SC4481F0-PSG.edf (50.1 MB)\n"
     ]
    },
    {
     "data": {
      "application/vnd.jupyter.widget-view+json": {
       "model_id": "371bd3e60fc94747a733967042bad4e8",
       "version_major": 2,
       "version_minor": 0
      },
      "text/plain": [
       "HBox(children=(FloatProgress(value=0.0, description='Downloading', max=52533248.0, style=ProgressStyle(descrip…"
      ]
     },
     "metadata": {},
     "output_type": "display_data"
    },
    {
     "name": "stdout",
     "output_type": "stream",
     "text": [
      "\n",
      "Verifying hash c15f6a0e1802dcf74ecec41745677a4932375faf.\n",
      "Downloading https://physionet.org/physiobank/database/sleep-edfx/sleep-cassette//SC4481FV-Hypnogram.edf (6 kB)\n"
     ]
    },
    {
     "data": {
      "application/vnd.jupyter.widget-view+json": {
       "model_id": "fc61a4847adf4388af23eb37a701bc50",
       "version_major": 2,
       "version_minor": 0
      },
      "text/plain": [
       "HBox(children=(FloatProgress(value=0.0, description='Downloading', max=6328.0, style=ProgressStyle(description…"
      ]
     },
     "metadata": {},
     "output_type": "display_data"
    },
    {
     "name": "stdout",
     "output_type": "stream",
     "text": [
      "\n",
      "Verifying hash 50fce6396aceaf35d9d7e16175053a3b78f214d0.\n",
      "Extracting EDF parameters from C:\\Users\\baron\\mne_data\\physionet-sleep-data\\SC4481F0-PSG.edf...\n",
      "EDF file detected\n",
      "Setting channel info structure...\n",
      "Creating raw.info structure...\n",
      "Used Annotations descriptions: ['Sleep stage 1', 'Sleep stage 2', 'Sleep stage 3', 'Sleep stage 4', 'Sleep stage R', 'Sleep stage W']\n",
      "Not setting metadata\n",
      "Not setting metadata\n",
      "2027 matching events found\n",
      "No baseline correction applied\n",
      "0 projection items activated\n",
      "Loading data for 2027 events and 3000 original time points ...\n",
      "0 bad epochs dropped\n",
      "Using default location ~/mne_data for PHYSIONET_SLEEP...\n",
      "Downloading https://physionet.org/physiobank/database/sleep-edfx/sleep-cassette//SC4491G0-PSG.edf (48.7 MB)\n"
     ]
    },
    {
     "data": {
      "application/vnd.jupyter.widget-view+json": {
       "model_id": "c70872b136d140b1bad806f9f7e77fbd",
       "version_major": 2,
       "version_minor": 0
      },
      "text/plain": [
       "HBox(children=(FloatProgress(value=0.0, description='Downloading', max=51074048.0, style=ProgressStyle(descrip…"
      ]
     },
     "metadata": {},
     "output_type": "display_data"
    },
    {
     "name": "stdout",
     "output_type": "stream",
     "text": [
      "\n",
      "Verifying hash 23ea1f5f299c6cd99d434f014d7490621dbbc854.\n",
      "Downloading https://physionet.org/physiobank/database/sleep-edfx/sleep-cassette//SC4491GJ-Hypnogram.edf (4 kB)\n"
     ]
    },
    {
     "data": {
      "application/vnd.jupyter.widget-view+json": {
       "model_id": "0bdac3fecbd8477bb0819711cdb8e098",
       "version_major": 2,
       "version_minor": 0
      },
      "text/plain": [
       "HBox(children=(FloatProgress(value=0.0, description='Downloading', max=4490.0, style=ProgressStyle(description…"
      ]
     },
     "metadata": {},
     "output_type": "display_data"
    },
    {
     "name": "stdout",
     "output_type": "stream",
     "text": [
      "\n",
      "Verifying hash 36c6c8112524c7bc9553db37601b38984946209b.\n",
      "Extracting EDF parameters from C:\\Users\\baron\\mne_data\\physionet-sleep-data\\SC4491G0-PSG.edf...\n",
      "EDF file detected\n",
      "Setting channel info structure...\n",
      "Creating raw.info structure...\n",
      "Used Annotations descriptions: ['Sleep stage 1', 'Sleep stage 2', 'Sleep stage 3', 'Sleep stage R', 'Sleep stage W']\n",
      "Not setting metadata\n",
      "Not setting metadata\n",
      "1101 matching events found\n",
      "No baseline correction applied\n",
      "0 projection items activated\n",
      "Loading data for 1101 events and 3000 original time points ...\n",
      "0 bad epochs dropped\n",
      "Using default location ~/mne_data for PHYSIONET_SLEEP...\n",
      "Downloading https://physionet.org/physiobank/database/sleep-edfx/sleep-cassette//SC4501E0-PSG.edf (47.8 MB)\n"
     ]
    },
    {
     "data": {
      "application/vnd.jupyter.widget-view+json": {
       "model_id": "7d34a0fbbbdd4f11b4fd8725a5aff535",
       "version_major": 2,
       "version_minor": 0
      },
      "text/plain": [
       "HBox(children=(FloatProgress(value=0.0, description='Downloading', max=50162048.0, style=ProgressStyle(descrip…"
      ]
     },
     "metadata": {},
     "output_type": "display_data"
    },
    {
     "name": "stdout",
     "output_type": "stream",
     "text": [
      "\n",
      "Verifying hash 1c31fc02412029bc7369979b8c9f5956420748f5.\n",
      "Downloading https://physionet.org/physiobank/database/sleep-edfx/sleep-cassette//SC4501EW-Hypnogram.edf (3 kB)\n"
     ]
    },
    {
     "data": {
      "application/vnd.jupyter.widget-view+json": {
       "model_id": "586199e9ae7c4038bc047d9eac9f1ae1",
       "version_major": 2,
       "version_minor": 0
      },
      "text/plain": [
       "HBox(children=(FloatProgress(value=0.0, description='Downloading', max=2794.0, style=ProgressStyle(description…"
      ]
     },
     "metadata": {},
     "output_type": "display_data"
    },
    {
     "name": "stdout",
     "output_type": "stream",
     "text": [
      "\n",
      "Verifying hash eb2621c1670a42eb38dfa86a9bc3326818365f3d.\n",
      "Extracting EDF parameters from C:\\Users\\baron\\mne_data\\physionet-sleep-data\\SC4501E0-PSG.edf...\n",
      "EDF file detected\n",
      "Setting channel info structure...\n",
      "Creating raw.info structure...\n",
      "Used Annotations descriptions: ['Sleep stage 1', 'Sleep stage 2', 'Sleep stage 3', 'Sleep stage R', 'Sleep stage W']\n",
      "Not setting metadata\n",
      "Not setting metadata\n",
      "1326 matching events found\n",
      "No baseline correction applied\n",
      "0 projection items activated\n",
      "Loading data for 1326 events and 3000 original time points ...\n",
      "0 bad epochs dropped\n",
      "Using default location ~/mne_data for PHYSIONET_SLEEP...\n",
      "Downloading https://physionet.org/physiobank/database/sleep-edfx/sleep-cassette//SC4511E0-PSG.edf (47.2 MB)\n"
     ]
    },
    {
     "data": {
      "application/vnd.jupyter.widget-view+json": {
       "model_id": "fcef975c5a224489857d20fdd9356dfb",
       "version_major": 2,
       "version_minor": 0
      },
      "text/plain": [
       "HBox(children=(FloatProgress(value=0.0, description='Downloading', max=49468928.0, style=ProgressStyle(descrip…"
      ]
     },
     "metadata": {},
     "output_type": "display_data"
    },
    {
     "name": "stdout",
     "output_type": "stream",
     "text": [
      "\n",
      "Verifying hash e12eb259c2894d45b8d0b2f0e75810c2de02237d.\n",
      "Downloading https://physionet.org/physiobank/database/sleep-edfx/sleep-cassette//SC4511EJ-Hypnogram.edf (3 kB)\n"
     ]
    },
    {
     "data": {
      "application/vnd.jupyter.widget-view+json": {
       "model_id": "3b168353f9c94a0b9e27ded860b54463",
       "version_major": 2,
       "version_minor": 0
      },
      "text/plain": [
       "HBox(children=(FloatProgress(value=0.0, description='Downloading', max=3080.0, style=ProgressStyle(description…"
      ]
     },
     "metadata": {},
     "output_type": "display_data"
    },
    {
     "name": "stdout",
     "output_type": "stream",
     "text": [
      "\n",
      "Verifying hash e549275e9182b9e36ade5abb721098e235ecb164.\n",
      "Extracting EDF parameters from C:\\Users\\baron\\mne_data\\physionet-sleep-data\\SC4511E0-PSG.edf...\n",
      "EDF file detected\n",
      "Setting channel info structure...\n",
      "Creating raw.info structure...\n",
      "Used Annotations descriptions: ['Sleep stage 1', 'Sleep stage 2', 'Sleep stage 3', 'Sleep stage R', 'Sleep stage W']\n",
      "Not setting metadata\n",
      "Not setting metadata\n",
      "1087 matching events found\n",
      "No baseline correction applied\n",
      "0 projection items activated\n",
      "Loading data for 1087 events and 3000 original time points ...\n",
      "0 bad epochs dropped\n",
      "Using default location ~/mne_data for PHYSIONET_SLEEP...\n",
      "Downloading https://physionet.org/physiobank/database/sleep-edfx/sleep-cassette//SC4531E0-PSG.edf (45.3 MB)\n"
     ]
    },
    {
     "data": {
      "application/vnd.jupyter.widget-view+json": {
       "model_id": "f51de74cc22d49beade216aefbe25def",
       "version_major": 2,
       "version_minor": 0
      },
      "text/plain": [
       "HBox(children=(FloatProgress(value=0.0, description='Downloading', max=47462528.0, style=ProgressStyle(descrip…"
      ]
     },
     "metadata": {},
     "output_type": "display_data"
    },
    {
     "name": "stdout",
     "output_type": "stream",
     "text": [
      "\n",
      "Verifying hash 71222ac5b7784ed1d3a79ee3e9036431d6eba9bd.\n",
      "Downloading https://physionet.org/physiobank/database/sleep-edfx/sleep-cassette//SC4531EM-Hypnogram.edf (6 kB)\n"
     ]
    },
    {
     "data": {
      "application/vnd.jupyter.widget-view+json": {
       "model_id": "18cb309990a1483aa673b800ad354af9",
       "version_major": 2,
       "version_minor": 0
      },
      "text/plain": [
       "HBox(children=(FloatProgress(value=0.0, description='Downloading', max=6002.0, style=ProgressStyle(description…"
      ]
     },
     "metadata": {},
     "output_type": "display_data"
    },
    {
     "name": "stdout",
     "output_type": "stream",
     "text": [
      "\n",
      "Verifying hash 934dbfeb29f4f4db4b61e36fb8ddab4ddbf4ff94.\n",
      "Extracting EDF parameters from C:\\Users\\baron\\mne_data\\physionet-sleep-data\\SC4531E0-PSG.edf...\n",
      "EDF file detected\n",
      "Setting channel info structure...\n",
      "Creating raw.info structure...\n",
      "Used Annotations descriptions: ['Sleep stage 1', 'Sleep stage 2', 'Sleep stage 3', 'Sleep stage 4', 'Sleep stage R', 'Sleep stage W']\n",
      "Not setting metadata\n",
      "Not setting metadata\n",
      "1096 matching events found\n",
      "No baseline correction applied\n",
      "0 projection items activated\n",
      "Loading data for 1096 events and 3000 original time points ...\n",
      "0 bad epochs dropped\n",
      "Using default location ~/mne_data for PHYSIONET_SLEEP...\n",
      "Downloading https://physionet.org/physiobank/database/sleep-edfx/sleep-cassette//SC4541F0-PSG.edf (47.7 MB)\n"
     ]
    },
    {
     "data": {
      "application/vnd.jupyter.widget-view+json": {
       "model_id": "bcee576490cd46b483c388e2ba6d2ea5",
       "version_major": 2,
       "version_minor": 0
      },
      "text/plain": [
       "HBox(children=(FloatProgress(value=0.0, description='Downloading', max=49979648.0, style=ProgressStyle(descrip…"
      ]
     },
     "metadata": {},
     "output_type": "display_data"
    },
    {
     "name": "stdout",
     "output_type": "stream",
     "text": [
      "\n",
      "Verifying hash 4d3ec2f85149bb10fed1013831c3aa1f58049229.\n",
      "Downloading https://physionet.org/physiobank/database/sleep-edfx/sleep-cassette//SC4541FA-Hypnogram.edf (5 kB)\n"
     ]
    },
    {
     "data": {
      "application/vnd.jupyter.widget-view+json": {
       "model_id": "49a5ae4b793d4fd589efa83ffb25d7b6",
       "version_major": 2,
       "version_minor": 0
      },
      "text/plain": [
       "HBox(children=(FloatProgress(value=0.0, description='Downloading', max=5370.0, style=ProgressStyle(description…"
      ]
     },
     "metadata": {},
     "output_type": "display_data"
    },
    {
     "name": "stdout",
     "output_type": "stream",
     "text": [
      "\n",
      "Verifying hash a301385e6fbde02c83f2545f17cdf75d594d37ce.\n",
      "Extracting EDF parameters from C:\\Users\\baron\\mne_data\\physionet-sleep-data\\SC4541F0-PSG.edf...\n",
      "EDF file detected\n",
      "Setting channel info structure...\n",
      "Creating raw.info structure...\n",
      "Used Annotations descriptions: ['Sleep stage 1', 'Sleep stage 2', 'Sleep stage 3', 'Sleep stage R', 'Sleep stage W']\n",
      "Not setting metadata\n",
      "Not setting metadata\n",
      "1716 matching events found\n",
      "No baseline correction applied\n",
      "0 projection items activated\n",
      "Loading data for 1716 events and 3000 original time points ...\n",
      "0 bad epochs dropped\n",
      "Using default location ~/mne_data for PHYSIONET_SLEEP...\n",
      "Downloading https://physionet.org/physiobank/database/sleep-edfx/sleep-cassette//SC4551F0-PSG.edf (48.2 MB)\n"
     ]
    },
    {
     "data": {
      "application/vnd.jupyter.widget-view+json": {
       "model_id": "3661e5881a0a4b2caa233973d0fcc751",
       "version_major": 2,
       "version_minor": 0
      },
      "text/plain": [
       "HBox(children=(FloatProgress(value=0.0, description='Downloading', max=50563328.0, style=ProgressStyle(descrip…"
      ]
     },
     "metadata": {},
     "output_type": "display_data"
    },
    {
     "name": "stdout",
     "output_type": "stream",
     "text": [
      "\n",
      "Verifying hash 0bf97e463cbcefb7df48bca712f29dcc74223330.\n",
      "Downloading https://physionet.org/physiobank/database/sleep-edfx/sleep-cassette//SC4551FC-Hypnogram.edf (3 kB)\n"
     ]
    },
    {
     "data": {
      "application/vnd.jupyter.widget-view+json": {
       "model_id": "71855ee4204f4f5a931d569e4a61d82e",
       "version_major": 2,
       "version_minor": 0
      },
      "text/plain": [
       "HBox(children=(FloatProgress(value=0.0, description='Downloading', max=3490.0, style=ProgressStyle(description…"
      ]
     },
     "metadata": {},
     "output_type": "display_data"
    },
    {
     "name": "stdout",
     "output_type": "stream",
     "text": [
      "\n",
      "Verifying hash e50b44e6b049baaeb528c31563642b2a2b933834.\n",
      "Extracting EDF parameters from C:\\Users\\baron\\mne_data\\physionet-sleep-data\\SC4551F0-PSG.edf...\n",
      "EDF file detected\n",
      "Setting channel info structure...\n",
      "Creating raw.info structure...\n",
      "Used Annotations descriptions: ['Sleep stage 1', 'Sleep stage 2', 'Sleep stage 3', 'Sleep stage R', 'Sleep stage W']\n",
      "Not setting metadata\n",
      "Not setting metadata\n",
      "1047 matching events found\n",
      "No baseline correction applied\n",
      "0 projection items activated\n",
      "Loading data for 1047 events and 3000 original time points ...\n",
      "0 bad epochs dropped\n",
      "Using default location ~/mne_data for PHYSIONET_SLEEP...\n",
      "Downloading https://physionet.org/physiobank/database/sleep-edfx/sleep-cassette//SC4561F0-PSG.edf (47.0 MB)\n"
     ]
    },
    {
     "data": {
      "application/vnd.jupyter.widget-view+json": {
       "model_id": "449def3830e84ad4a28efd74e095db96",
       "version_major": 2,
       "version_minor": 0
      },
      "text/plain": [
       "HBox(children=(FloatProgress(value=0.0, description='Downloading', max=49323008.0, style=ProgressStyle(descrip…"
      ]
     },
     "metadata": {},
     "output_type": "display_data"
    },
    {
     "name": "stdout",
     "output_type": "stream",
     "text": [
      "\n",
      "Verifying hash 1a9baf1b072ca9d2784a404292169ff3177ea83f.\n",
      "Downloading https://physionet.org/physiobank/database/sleep-edfx/sleep-cassette//SC4561FJ-Hypnogram.edf (5 kB)\n"
     ]
    },
    {
     "data": {
      "application/vnd.jupyter.widget-view+json": {
       "model_id": "d78a213cd87d496cbeefc5fc2d39b609",
       "version_major": 2,
       "version_minor": 0
      },
      "text/plain": [
       "HBox(children=(FloatProgress(value=0.0, description='Downloading', max=5528.0, style=ProgressStyle(description…"
      ]
     },
     "metadata": {},
     "output_type": "display_data"
    },
    {
     "name": "stdout",
     "output_type": "stream",
     "text": [
      "\n",
      "Verifying hash b31a2dfe652508df46f6afe03ab904c333f7b818.\n",
      "Extracting EDF parameters from C:\\Users\\baron\\mne_data\\physionet-sleep-data\\SC4561F0-PSG.edf...\n",
      "EDF file detected\n",
      "Setting channel info structure...\n",
      "Creating raw.info structure...\n",
      "Used Annotations descriptions: ['Sleep stage 1', 'Sleep stage 2', 'Sleep stage 3', 'Sleep stage 4', 'Sleep stage R', 'Sleep stage W']\n",
      "Not setting metadata\n",
      "Not setting metadata\n",
      "1237 matching events found\n",
      "No baseline correction applied\n",
      "0 projection items activated\n",
      "Loading data for 1237 events and 3000 original time points ...\n",
      "0 bad epochs dropped\n",
      "Using default location ~/mne_data for PHYSIONET_SLEEP...\n",
      "Downloading https://physionet.org/physiobank/database/sleep-edfx/sleep-cassette//SC4571F0-PSG.edf (49.6 MB)\n"
     ]
    },
    {
     "data": {
      "application/vnd.jupyter.widget-view+json": {
       "model_id": "6dc46bd0af374f16bfd1c5ef6b293dce",
       "version_major": 2,
       "version_minor": 0
      },
      "text/plain": [
       "HBox(children=(FloatProgress(value=0.0, description='Downloading', max=51986048.0, style=ProgressStyle(descrip…"
      ]
     },
     "metadata": {},
     "output_type": "display_data"
    },
    {
     "name": "stdout",
     "output_type": "stream",
     "text": [
      "\n",
      "Verifying hash e67f3bd381ddfb96d584f6c6d6f6762087d6553d.\n",
      "Downloading https://physionet.org/physiobank/database/sleep-edfx/sleep-cassette//SC4571FV-Hypnogram.edf (6 kB)\n"
     ]
    },
    {
     "data": {
      "application/vnd.jupyter.widget-view+json": {
       "model_id": "def210572f0e48cd8e22fb92133fb3ae",
       "version_major": 2,
       "version_minor": 0
      },
      "text/plain": [
       "HBox(children=(FloatProgress(value=0.0, description='Downloading', max=6188.0, style=ProgressStyle(description…"
      ]
     },
     "metadata": {},
     "output_type": "display_data"
    },
    {
     "name": "stdout",
     "output_type": "stream",
     "text": [
      "\n",
      "Verifying hash 08ee39eb94d819968512297ca883f9bca046de9c.\n",
      "Extracting EDF parameters from C:\\Users\\baron\\mne_data\\physionet-sleep-data\\SC4571F0-PSG.edf...\n",
      "EDF file detected\n",
      "Setting channel info structure...\n",
      "Creating raw.info structure...\n",
      "Used Annotations descriptions: ['Sleep stage 1', 'Sleep stage 2', 'Sleep stage R', 'Sleep stage W']\n",
      "Using default location ~/mne_data for PHYSIONET_SLEEP...\n",
      "Downloading https://physionet.org/physiobank/database/sleep-edfx/sleep-cassette//SC4581G0-PSG.edf (47.6 MB)\n"
     ]
    },
    {
     "data": {
      "application/vnd.jupyter.widget-view+json": {
       "model_id": "3d2adc6f2d2244bbbf6f84708ff90a78",
       "version_major": 2,
       "version_minor": 0
      },
      "text/plain": [
       "HBox(children=(FloatProgress(value=0.0, description='Downloading', max=49943168.0, style=ProgressStyle(descrip…"
      ]
     },
     "metadata": {},
     "output_type": "display_data"
    },
    {
     "name": "stdout",
     "output_type": "stream",
     "text": [
      "\n",
      "Verifying hash 16a1edbd6a089386fd7de72aef802182d0a2959d.\n",
      "Downloading https://physionet.org/physiobank/database/sleep-edfx/sleep-cassette//SC4581GM-Hypnogram.edf (5 kB)\n"
     ]
    },
    {
     "data": {
      "application/vnd.jupyter.widget-view+json": {
       "model_id": "1846dd0ba2ee41479d132d8fb4253cd3",
       "version_major": 2,
       "version_minor": 0
      },
      "text/plain": [
       "HBox(children=(FloatProgress(value=0.0, description='Downloading', max=4842.0, style=ProgressStyle(description…"
      ]
     },
     "metadata": {},
     "output_type": "display_data"
    },
    {
     "name": "stdout",
     "output_type": "stream",
     "text": [
      "\n",
      "Verifying hash bfc729575cfdf5f409be2de47dad4e00d43195bf.\n",
      "Extracting EDF parameters from C:\\Users\\baron\\mne_data\\physionet-sleep-data\\SC4581G0-PSG.edf...\n",
      "EDF file detected\n",
      "Setting channel info structure...\n",
      "Creating raw.info structure...\n",
      "Used Annotations descriptions: ['Sleep stage 1', 'Sleep stage 2', 'Sleep stage 3', 'Sleep stage R', 'Sleep stage W']\n",
      "Not setting metadata\n",
      "Not setting metadata\n",
      "1095 matching events found\n",
      "No baseline correction applied\n",
      "0 projection items activated\n",
      "Loading data for 1095 events and 3000 original time points ...\n",
      "0 bad epochs dropped\n",
      "Using default location ~/mne_data for PHYSIONET_SLEEP...\n",
      "Downloading https://physionet.org/physiobank/database/sleep-edfx/sleep-cassette//SC4591G0-PSG.edf (49.1 MB)\n"
     ]
    },
    {
     "data": {
      "application/vnd.jupyter.widget-view+json": {
       "model_id": "3c08c72eec784a17a3fe860fc05961a0",
       "version_major": 2,
       "version_minor": 0
      },
      "text/plain": [
       "HBox(children=(FloatProgress(value=0.0, description='Downloading', max=51438848.0, style=ProgressStyle(descrip…"
      ]
     },
     "metadata": {},
     "output_type": "display_data"
    },
    {
     "name": "stdout",
     "output_type": "stream",
     "text": [
      "\n",
      "Verifying hash 017793b040df8a860df0e43e3e0a496e2cb3f9c1.\n",
      "Downloading https://physionet.org/physiobank/database/sleep-edfx/sleep-cassette//SC4591GY-Hypnogram.edf (6 kB)\n"
     ]
    },
    {
     "data": {
      "application/vnd.jupyter.widget-view+json": {
       "model_id": "0990ad21f545495180515b220855f9e9",
       "version_major": 2,
       "version_minor": 0
      },
      "text/plain": [
       "HBox(children=(FloatProgress(value=0.0, description='Downloading', max=5742.0, style=ProgressStyle(description…"
      ]
     },
     "metadata": {},
     "output_type": "display_data"
    },
    {
     "name": "stdout",
     "output_type": "stream",
     "text": [
      "\n",
      "Verifying hash f3bb949a7f82acb7fd3d8f35e92efee1402a383f.\n",
      "Extracting EDF parameters from C:\\Users\\baron\\mne_data\\physionet-sleep-data\\SC4591G0-PSG.edf...\n",
      "EDF file detected\n",
      "Setting channel info structure...\n",
      "Creating raw.info structure...\n",
      "Used Annotations descriptions: ['Sleep stage 1', 'Sleep stage 2', 'Sleep stage 3', 'Sleep stage R', 'Sleep stage W']\n",
      "Not setting metadata\n",
      "Not setting metadata\n",
      "1840 matching events found\n",
      "No baseline correction applied\n",
      "0 projection items activated\n",
      "Loading data for 1840 events and 3000 original time points ...\n",
      "0 bad epochs dropped\n",
      "Using default location ~/mne_data for PHYSIONET_SLEEP...\n",
      "Downloading https://physionet.org/physiobank/database/sleep-edfx/sleep-cassette//SC4601E0-PSG.edf (47.5 MB)\n"
     ]
    },
    {
     "data": {
      "application/vnd.jupyter.widget-view+json": {
       "model_id": "6b8f26aeaa434a4c9a28156714dece1c",
       "version_major": 2,
       "version_minor": 0
      },
      "text/plain": [
       "HBox(children=(FloatProgress(value=0.0, description='Downloading', max=49797248.0, style=ProgressStyle(descrip…"
      ]
     },
     "metadata": {},
     "output_type": "display_data"
    },
    {
     "name": "stdout",
     "output_type": "stream",
     "text": [
      "\n",
      "Verifying hash ece6d6ce09fac6fc521cf3f1b536f1ea2a8a1778.\n",
      "Downloading https://physionet.org/physiobank/database/sleep-edfx/sleep-cassette//SC4601EC-Hypnogram.edf (6 kB)\n"
     ]
    },
    {
     "data": {
      "application/vnd.jupyter.widget-view+json": {
       "model_id": "380a33489aa444eba9e59cbcd20223bb",
       "version_major": 2,
       "version_minor": 0
      },
      "text/plain": [
       "HBox(children=(FloatProgress(value=0.0, description='Downloading', max=5942.0, style=ProgressStyle(description…"
      ]
     },
     "metadata": {},
     "output_type": "display_data"
    },
    {
     "name": "stdout",
     "output_type": "stream",
     "text": [
      "\n",
      "Verifying hash 8f77b05fe58f43cdfdcdba7cc3d27abcac7d37f2.\n",
      "Extracting EDF parameters from C:\\Users\\baron\\mne_data\\physionet-sleep-data\\SC4601E0-PSG.edf...\n",
      "EDF file detected\n",
      "Setting channel info structure...\n",
      "Creating raw.info structure...\n",
      "Used Annotations descriptions: ['Sleep stage 1', 'Sleep stage 2', 'Sleep stage 3', 'Sleep stage 4', 'Sleep stage R', 'Sleep stage W']\n",
      "Not setting metadata\n",
      "Not setting metadata\n",
      "1349 matching events found\n",
      "No baseline correction applied\n",
      "0 projection items activated\n",
      "Loading data for 1349 events and 3000 original time points ...\n",
      "0 bad epochs dropped\n",
      "Using default location ~/mne_data for PHYSIONET_SLEEP...\n",
      "Downloading https://physionet.org/physiobank/database/sleep-edfx/sleep-cassette//SC4611E0-PSG.edf (46.1 MB)\n"
     ]
    },
    {
     "data": {
      "application/vnd.jupyter.widget-view+json": {
       "model_id": "f43b13531d3d45f3908175907778165c",
       "version_major": 2,
       "version_minor": 0
      },
      "text/plain": [
       "HBox(children=(FloatProgress(value=0.0, description='Downloading', max=48338048.0, style=ProgressStyle(descrip…"
      ]
     },
     "metadata": {},
     "output_type": "display_data"
    },
    {
     "name": "stdout",
     "output_type": "stream",
     "text": [
      "\n",
      "Verifying hash 2cc6e418c0b7af472aa34d2bbd5ece85bdb6a879.\n",
      "Downloading https://physionet.org/physiobank/database/sleep-edfx/sleep-cassette//SC4611EG-Hypnogram.edf (7 kB)\n"
     ]
    },
    {
     "data": {
      "application/vnd.jupyter.widget-view+json": {
       "model_id": "6861ffa6f98d41c281ea28f51700564c",
       "version_major": 2,
       "version_minor": 0
      },
      "text/plain": [
       "HBox(children=(FloatProgress(value=0.0, description='Downloading', max=7236.0, style=ProgressStyle(description…"
      ]
     },
     "metadata": {},
     "output_type": "display_data"
    },
    {
     "name": "stdout",
     "output_type": "stream",
     "text": [
      "\n",
      "Verifying hash f5715ab48f24221c28c1d5c45508c8bb58c912ec.\n",
      "Extracting EDF parameters from C:\\Users\\baron\\mne_data\\physionet-sleep-data\\SC4611E0-PSG.edf...\n",
      "EDF file detected\n",
      "Setting channel info structure...\n",
      "Creating raw.info structure...\n",
      "Used Annotations descriptions: ['Sleep stage 1', 'Sleep stage 2', 'Sleep stage 3', 'Sleep stage 4', 'Sleep stage R', 'Sleep stage W']\n",
      "Not setting metadata\n",
      "Not setting metadata\n",
      "1652 matching events found\n",
      "No baseline correction applied\n",
      "0 projection items activated\n",
      "Loading data for 1652 events and 3000 original time points ...\n",
      "0 bad epochs dropped\n",
      "Using default location ~/mne_data for PHYSIONET_SLEEP...\n",
      "Downloading https://physionet.org/physiobank/database/sleep-edfx/sleep-cassette//SC4621E0-PSG.edf (45.4 MB)\n"
     ]
    },
    {
     "data": {
      "application/vnd.jupyter.widget-view+json": {
       "model_id": "029ce28df2e942b297bcfdcc3c2341dc",
       "version_major": 2,
       "version_minor": 0
      },
      "text/plain": [
       "HBox(children=(FloatProgress(value=0.0, description='Downloading', max=47644928.0, style=ProgressStyle(descrip…"
      ]
     },
     "metadata": {},
     "output_type": "display_data"
    },
    {
     "name": "stdout",
     "output_type": "stream",
     "text": [
      "\n",
      "Verifying hash 31cd2cae56977c6b872311f2a6e60827748b973d.\n",
      "Downloading https://physionet.org/physiobank/database/sleep-edfx/sleep-cassette//SC4621EV-Hypnogram.edf (5 kB)\n"
     ]
    },
    {
     "data": {
      "application/vnd.jupyter.widget-view+json": {
       "model_id": "96cdf503811d4a2f937e36c14509eb04",
       "version_major": 2,
       "version_minor": 0
      },
      "text/plain": [
       "HBox(children=(FloatProgress(value=0.0, description='Downloading', max=5608.0, style=ProgressStyle(description…"
      ]
     },
     "metadata": {},
     "output_type": "display_data"
    },
    {
     "name": "stdout",
     "output_type": "stream",
     "text": [
      "\n",
      "Verifying hash 7acc5296b33ca4eee8d6577064c8c651ee96e527.\n",
      "Extracting EDF parameters from C:\\Users\\baron\\mne_data\\physionet-sleep-data\\SC4621E0-PSG.edf...\n",
      "EDF file detected\n",
      "Setting channel info structure...\n",
      "Creating raw.info structure...\n",
      "Used Annotations descriptions: ['Sleep stage 1', 'Sleep stage 2', 'Sleep stage 3', 'Sleep stage R', 'Sleep stage W']\n",
      "Not setting metadata\n",
      "Not setting metadata\n",
      "1445 matching events found\n",
      "No baseline correction applied\n",
      "0 projection items activated\n",
      "Loading data for 1445 events and 3000 original time points ...\n",
      "0 bad epochs dropped\n",
      "Using default location ~/mne_data for PHYSIONET_SLEEP...\n",
      "Downloading https://physionet.org/physiobank/database/sleep-edfx/sleep-cassette//SC4631E0-PSG.edf (48.0 MB)\n"
     ]
    },
    {
     "data": {
      "application/vnd.jupyter.widget-view+json": {
       "model_id": "0d46bb47621f4313a6a3a2fffc649589",
       "version_major": 2,
       "version_minor": 0
      },
      "text/plain": [
       "HBox(children=(FloatProgress(value=0.0, description='Downloading', max=50307968.0, style=ProgressStyle(descrip…"
      ]
     },
     "metadata": {},
     "output_type": "display_data"
    },
    {
     "name": "stdout",
     "output_type": "stream",
     "text": [
      "\n",
      "Verifying hash 6dfb32aa4c94968a52d61b90a38573d178669bfb.\n",
      "Downloading https://physionet.org/physiobank/database/sleep-edfx/sleep-cassette//SC4631EM-Hypnogram.edf (5 kB)\n"
     ]
    },
    {
     "data": {
      "application/vnd.jupyter.widget-view+json": {
       "model_id": "6d496739c6f74203a432d169413d61ef",
       "version_major": 2,
       "version_minor": 0
      },
      "text/plain": [
       "HBox(children=(FloatProgress(value=0.0, description='Downloading', max=4734.0, style=ProgressStyle(description…"
      ]
     },
     "metadata": {},
     "output_type": "display_data"
    },
    {
     "name": "stdout",
     "output_type": "stream",
     "text": [
      "\n",
      "Verifying hash 48e28f93fc71ffc539776196f9d9d1365415e0b4.\n",
      "Extracting EDF parameters from C:\\Users\\baron\\mne_data\\physionet-sleep-data\\SC4631E0-PSG.edf...\n",
      "EDF file detected\n",
      "Setting channel info structure...\n",
      "Creating raw.info structure...\n",
      "Used Annotations descriptions: ['Sleep stage 1', 'Sleep stage 2', 'Sleep stage 3', 'Sleep stage R', 'Sleep stage W']\n",
      "Not setting metadata\n",
      "Not setting metadata\n",
      "1063 matching events found\n",
      "No baseline correction applied\n",
      "0 projection items activated\n",
      "Loading data for 1063 events and 3000 original time points ...\n",
      "0 bad epochs dropped\n",
      "Using default location ~/mne_data for PHYSIONET_SLEEP...\n",
      "Downloading https://physionet.org/physiobank/database/sleep-edfx/sleep-cassette//SC4641E0-PSG.edf (46.6 MB)\n"
     ]
    },
    {
     "data": {
      "application/vnd.jupyter.widget-view+json": {
       "model_id": "d1f919241f9e443da9a721e98c2d5f92",
       "version_major": 2,
       "version_minor": 0
      },
      "text/plain": [
       "HBox(children=(FloatProgress(value=0.0, description='Downloading', max=48885248.0, style=ProgressStyle(descrip…"
      ]
     },
     "metadata": {},
     "output_type": "display_data"
    },
    {
     "name": "stdout",
     "output_type": "stream",
     "text": [
      "\n",
      "Verifying hash 0e5d109a929490cbecf59573577a97df07a05cd0.\n",
      "Downloading https://physionet.org/physiobank/database/sleep-edfx/sleep-cassette//SC4641EP-Hypnogram.edf (3 kB)\n"
     ]
    },
    {
     "data": {
      "application/vnd.jupyter.widget-view+json": {
       "model_id": "d922900898f44d7191fb9fb573b9156f",
       "version_major": 2,
       "version_minor": 0
      },
      "text/plain": [
       "HBox(children=(FloatProgress(value=0.0, description='Downloading', max=2896.0, style=ProgressStyle(description…"
      ]
     },
     "metadata": {},
     "output_type": "display_data"
    },
    {
     "name": "stdout",
     "output_type": "stream",
     "text": [
      "\n",
      "Verifying hash 7b896dc5b34d71381d8462001dc3e05b145cf48c.\n",
      "Extracting EDF parameters from C:\\Users\\baron\\mne_data\\physionet-sleep-data\\SC4641E0-PSG.edf...\n",
      "EDF file detected\n",
      "Setting channel info structure...\n",
      "Creating raw.info structure...\n",
      "Used Annotations descriptions: ['Sleep stage 1', 'Sleep stage 2', 'Sleep stage R', 'Sleep stage W']\n",
      "Using default location ~/mne_data for PHYSIONET_SLEEP...\n",
      "Downloading https://physionet.org/physiobank/database/sleep-edfx/sleep-cassette//SC4651E0-PSG.edf (49.8 MB)\n"
     ]
    },
    {
     "data": {
      "application/vnd.jupyter.widget-view+json": {
       "model_id": "a8632c8f93044aa286e801e1a3efae94",
       "version_major": 2,
       "version_minor": 0
      },
      "text/plain": [
       "HBox(children=(FloatProgress(value=0.0, description='Downloading', max=52168448.0, style=ProgressStyle(descrip…"
      ]
     },
     "metadata": {},
     "output_type": "display_data"
    },
    {
     "name": "stdout",
     "output_type": "stream",
     "text": [
      "\n",
      "Verifying hash f2134a2ad001bc146f3e2d9d76cb7f00f03bbe52.\n",
      "Downloading https://physionet.org/physiobank/database/sleep-edfx/sleep-cassette//SC4651EP-Hypnogram.edf (7 kB)\n"
     ]
    },
    {
     "data": {
      "application/vnd.jupyter.widget-view+json": {
       "model_id": "66b815bd3426462a95fc0703c8572310",
       "version_major": 2,
       "version_minor": 0
      },
      "text/plain": [
       "HBox(children=(FloatProgress(value=0.0, description='Downloading', max=7194.0, style=ProgressStyle(description…"
      ]
     },
     "metadata": {},
     "output_type": "display_data"
    },
    {
     "name": "stdout",
     "output_type": "stream",
     "text": [
      "\n",
      "Verifying hash fad4311c7e11a9aa9a73a8e48d6fa966db61e71d.\n",
      "Extracting EDF parameters from C:\\Users\\baron\\mne_data\\physionet-sleep-data\\SC4651E0-PSG.edf...\n",
      "EDF file detected\n",
      "Setting channel info structure...\n",
      "Creating raw.info structure...\n",
      "Used Annotations descriptions: ['Sleep stage 1', 'Sleep stage 2', 'Sleep stage 3', 'Sleep stage 4', 'Sleep stage R', 'Sleep stage W']\n",
      "Not setting metadata\n",
      "Not setting metadata\n",
      "2644 matching events found\n",
      "No baseline correction applied\n",
      "0 projection items activated\n",
      "Loading data for 2644 events and 3000 original time points ...\n",
      "0 bad epochs dropped\n",
      "Using default location ~/mne_data for PHYSIONET_SLEEP...\n",
      "Downloading https://physionet.org/physiobank/database/sleep-edfx/sleep-cassette//SC4661E0-PSG.edf (47.7 MB)\n"
     ]
    },
    {
     "data": {
      "application/vnd.jupyter.widget-view+json": {
       "model_id": "0428ef476ff14795b3673ad7c515151b",
       "version_major": 2,
       "version_minor": 0
      },
      "text/plain": [
       "HBox(children=(FloatProgress(value=0.0, description='Downloading', max=49979648.0, style=ProgressStyle(descrip…"
      ]
     },
     "metadata": {},
     "output_type": "display_data"
    },
    {
     "name": "stdout",
     "output_type": "stream",
     "text": [
      "\n",
      "Verifying hash c6057505d2acf7b08371e266cf0fca1bfeb1e4e1.\n",
      "Downloading https://physionet.org/physiobank/database/sleep-edfx/sleep-cassette//SC4661EJ-Hypnogram.edf (6 kB)\n"
     ]
    },
    {
     "data": {
      "application/vnd.jupyter.widget-view+json": {
       "model_id": "5618bb40a4ae448fa058515480619a63",
       "version_major": 2,
       "version_minor": 0
      },
      "text/plain": [
       "HBox(children=(FloatProgress(value=0.0, description='Downloading', max=6076.0, style=ProgressStyle(description…"
      ]
     },
     "metadata": {},
     "output_type": "display_data"
    },
    {
     "name": "stdout",
     "output_type": "stream",
     "text": [
      "\n",
      "Verifying hash 06474e72126d2a00c1968e70730e1deac060f94e.\n",
      "Extracting EDF parameters from C:\\Users\\baron\\mne_data\\physionet-sleep-data\\SC4661E0-PSG.edf...\n",
      "EDF file detected\n",
      "Setting channel info structure...\n",
      "Creating raw.info structure...\n",
      "Used Annotations descriptions: ['Sleep stage 1', 'Sleep stage 2', 'Sleep stage 3', 'Sleep stage R', 'Sleep stage W']\n",
      "Not setting metadata\n",
      "Not setting metadata\n",
      "2026 matching events found\n",
      "No baseline correction applied\n",
      "0 projection items activated\n",
      "Loading data for 2026 events and 3000 original time points ...\n",
      "0 bad epochs dropped\n",
      "Using default location ~/mne_data for PHYSIONET_SLEEP...\n",
      "Downloading https://physionet.org/physiobank/database/sleep-edfx/sleep-cassette//SC4671G0-PSG.edf (48.4 MB)\n"
     ]
    },
    {
     "data": {
      "application/vnd.jupyter.widget-view+json": {
       "model_id": "1ce227aacfc54fb0b547bb5cb4f37cfd",
       "version_major": 2,
       "version_minor": 0
      },
      "text/plain": [
       "HBox(children=(FloatProgress(value=0.0, description='Downloading', max=50709248.0, style=ProgressStyle(descrip…"
      ]
     },
     "metadata": {},
     "output_type": "display_data"
    },
    {
     "name": "stdout",
     "output_type": "stream",
     "text": [
      "\n",
      "Verifying hash 4357aa9fedf0b53896d41e5dccd7b525f7212177.\n",
      "Downloading https://physionet.org/physiobank/database/sleep-edfx/sleep-cassette//SC4671GJ-Hypnogram.edf (6 kB)\n"
     ]
    },
    {
     "data": {
      "application/vnd.jupyter.widget-view+json": {
       "model_id": "198b43596ca84ca196f1d3d480ca5ac6",
       "version_major": 2,
       "version_minor": 0
      },
      "text/plain": [
       "HBox(children=(FloatProgress(value=0.0, description='Downloading', max=6636.0, style=ProgressStyle(description…"
      ]
     },
     "metadata": {},
     "output_type": "display_data"
    },
    {
     "name": "stdout",
     "output_type": "stream",
     "text": [
      "\n",
      "Verifying hash 459889157743c434933194446af5168cb145dfcb.\n",
      "Extracting EDF parameters from C:\\Users\\baron\\mne_data\\physionet-sleep-data\\SC4671G0-PSG.edf...\n",
      "EDF file detected\n",
      "Setting channel info structure...\n",
      "Creating raw.info structure...\n",
      "Used Annotations descriptions: ['Sleep stage 1', 'Sleep stage 2', 'Sleep stage 3', 'Sleep stage R', 'Sleep stage W']\n",
      "Not setting metadata\n",
      "Not setting metadata\n",
      "1968 matching events found\n",
      "No baseline correction applied\n",
      "0 projection items activated\n",
      "Loading data for 1968 events and 3000 original time points ...\n",
      "0 bad epochs dropped\n",
      "Using default location ~/mne_data for PHYSIONET_SLEEP...\n",
      "Downloading https://physionet.org/physiobank/database/sleep-edfx/sleep-cassette//SC4701E0-PSG.edf (46.6 MB)\n"
     ]
    },
    {
     "data": {
      "application/vnd.jupyter.widget-view+json": {
       "model_id": "908413d4c0964d618ceef4bc870e4824",
       "version_major": 2,
       "version_minor": 0
      },
      "text/plain": [
       "HBox(children=(FloatProgress(value=0.0, description='Downloading', max=48885248.0, style=ProgressStyle(descrip…"
      ]
     },
     "metadata": {},
     "output_type": "display_data"
    },
    {
     "name": "stdout",
     "output_type": "stream",
     "text": [
      "\n",
      "Verifying hash 3f60b5ad5e1092e90c38f2072b3c041bd7313550.\n",
      "Downloading https://physionet.org/physiobank/database/sleep-edfx/sleep-cassette//SC4701EC-Hypnogram.edf (3 kB)\n"
     ]
    },
    {
     "data": {
      "application/vnd.jupyter.widget-view+json": {
       "model_id": "c701d435b2f64d80b3932eba426afe4a",
       "version_major": 2,
       "version_minor": 0
      },
      "text/plain": [
       "HBox(children=(FloatProgress(value=0.0, description='Downloading', max=3454.0, style=ProgressStyle(description…"
      ]
     },
     "metadata": {},
     "output_type": "display_data"
    },
    {
     "name": "stdout",
     "output_type": "stream",
     "text": [
      "\n",
      "Verifying hash 196a388f60ee4aecfa982f89e2db03ff91e906e7.\n",
      "Extracting EDF parameters from C:\\Users\\baron\\mne_data\\physionet-sleep-data\\SC4701E0-PSG.edf...\n",
      "EDF file detected\n",
      "Setting channel info structure...\n",
      "Creating raw.info structure...\n",
      "Used Annotations descriptions: ['Sleep stage 1', 'Sleep stage 2', 'Sleep stage 3', 'Sleep stage R', 'Sleep stage W']\n",
      "Not setting metadata\n",
      "Not setting metadata\n",
      "1717 matching events found\n",
      "No baseline correction applied\n",
      "0 projection items activated\n",
      "Loading data for 1717 events and 3000 original time points ...\n",
      "0 bad epochs dropped\n",
      "Using default location ~/mne_data for PHYSIONET_SLEEP...\n",
      "Downloading https://physionet.org/physiobank/database/sleep-edfx/sleep-cassette//SC4711E0-PSG.edf (47.5 MB)\n"
     ]
    },
    {
     "data": {
      "application/vnd.jupyter.widget-view+json": {
       "model_id": "343931aaf870452c8c5272e99a71eda8",
       "version_major": 2,
       "version_minor": 0
      },
      "text/plain": [
       "HBox(children=(FloatProgress(value=0.0, description='Downloading', max=49797248.0, style=ProgressStyle(descrip…"
      ]
     },
     "metadata": {},
     "output_type": "display_data"
    },
    {
     "name": "stdout",
     "output_type": "stream",
     "text": [
      "\n",
      "Verifying hash e97d691bfecf770ca4e47289b846886c16ef19fb.\n",
      "Downloading https://physionet.org/physiobank/database/sleep-edfx/sleep-cassette//SC4711EC-Hypnogram.edf (4 kB)\n"
     ]
    },
    {
     "data": {
      "application/vnd.jupyter.widget-view+json": {
       "model_id": "74bf02e686194ea787230e59e373c26d",
       "version_major": 2,
       "version_minor": 0
      },
      "text/plain": [
       "HBox(children=(FloatProgress(value=0.0, description='Downloading', max=3962.0, style=ProgressStyle(description…"
      ]
     },
     "metadata": {},
     "output_type": "display_data"
    },
    {
     "name": "stdout",
     "output_type": "stream",
     "text": [
      "\n",
      "Verifying hash 81ec5d0288f36c4368e5f06f21980f99774bf533.\n",
      "Extracting EDF parameters from C:\\Users\\baron\\mne_data\\physionet-sleep-data\\SC4711E0-PSG.edf...\n",
      "EDF file detected\n",
      "Setting channel info structure...\n",
      "Creating raw.info structure...\n",
      "Used Annotations descriptions: ['Sleep stage 1', 'Sleep stage 2', 'Sleep stage 3', 'Sleep stage R', 'Sleep stage W']\n",
      "Not setting metadata\n",
      "Not setting metadata\n",
      "1413 matching events found\n",
      "No baseline correction applied\n",
      "0 projection items activated\n",
      "Loading data for 1413 events and 3000 original time points ...\n",
      "0 bad epochs dropped\n",
      "Using default location ~/mne_data for PHYSIONET_SLEEP...\n",
      "Downloading https://physionet.org/physiobank/database/sleep-edfx/sleep-cassette//SC4721E0-PSG.edf (40.7 MB)\n"
     ]
    },
    {
     "data": {
      "application/vnd.jupyter.widget-view+json": {
       "model_id": "c75d110332954c13a9ab57c62b5c0b2e",
       "version_major": 2,
       "version_minor": 0
      },
      "text/plain": [
       "HBox(children=(FloatProgress(value=0.0, description='Downloading', max=42720128.0, style=ProgressStyle(descrip…"
      ]
     },
     "metadata": {},
     "output_type": "display_data"
    },
    {
     "name": "stdout",
     "output_type": "stream",
     "text": [
      "\n",
      "Verifying hash 5c9caa01cc1f8065f87195c9f2dc2aeebf83c03d.\n",
      "Downloading https://physionet.org/physiobank/database/sleep-edfx/sleep-cassette//SC4721EC-Hypnogram.edf (3 kB)\n"
     ]
    },
    {
     "data": {
      "application/vnd.jupyter.widget-view+json": {
       "model_id": "ac4cd568f8e54f6d8d93388bbafbad27",
       "version_major": 2,
       "version_minor": 0
      },
      "text/plain": [
       "HBox(children=(FloatProgress(value=0.0, description='Downloading', max=2604.0, style=ProgressStyle(description…"
      ]
     },
     "metadata": {},
     "output_type": "display_data"
    },
    {
     "name": "stdout",
     "output_type": "stream",
     "text": [
      "\n",
      "Verifying hash efe62b1e8bac1ea08dbf12374ca6812a6f271d5e.\n",
      "Extracting EDF parameters from C:\\Users\\baron\\mne_data\\physionet-sleep-data\\SC4721E0-PSG.edf...\n",
      "EDF file detected\n",
      "Setting channel info structure...\n",
      "Creating raw.info structure...\n",
      "Used Annotations descriptions: ['Sleep stage 1', 'Sleep stage 2', 'Sleep stage R', 'Sleep stage W']\n",
      "Using default location ~/mne_data for PHYSIONET_SLEEP...\n",
      "Downloading https://physionet.org/physiobank/database/sleep-edfx/sleep-cassette//SC4731E0-PSG.edf (48.4 MB)\n"
     ]
    },
    {
     "data": {
      "application/vnd.jupyter.widget-view+json": {
       "model_id": "e3bfd112269f4f30a0d51612b6a3a964",
       "version_major": 2,
       "version_minor": 0
      },
      "text/plain": [
       "HBox(children=(FloatProgress(value=0.0, description='Downloading', max=50709248.0, style=ProgressStyle(descrip…"
      ]
     },
     "metadata": {},
     "output_type": "display_data"
    },
    {
     "name": "stdout",
     "output_type": "stream",
     "text": [
      "\n",
      "Verifying hash b03e4a2df4d086778f3426ed7b6c5bf800cbfe92.\n",
      "Downloading https://physionet.org/physiobank/database/sleep-edfx/sleep-cassette//SC4731EM-Hypnogram.edf (4 kB)\n"
     ]
    },
    {
     "data": {
      "application/vnd.jupyter.widget-view+json": {
       "model_id": "b63c0bde224e47799a5b6c55ce521b1e",
       "version_major": 2,
       "version_minor": 0
      },
      "text/plain": [
       "HBox(children=(FloatProgress(value=0.0, description='Downloading', max=4082.0, style=ProgressStyle(description…"
      ]
     },
     "metadata": {},
     "output_type": "display_data"
    },
    {
     "name": "stdout",
     "output_type": "stream",
     "text": [
      "\n",
      "Verifying hash eb3dc65d7184d676a6678a70b18730d11a414588.\n",
      "Extracting EDF parameters from C:\\Users\\baron\\mne_data\\physionet-sleep-data\\SC4731E0-PSG.edf...\n",
      "EDF file detected\n",
      "Setting channel info structure...\n",
      "Creating raw.info structure...\n",
      "Used Annotations descriptions: ['Sleep stage 1', 'Sleep stage 2', 'Sleep stage R', 'Sleep stage W']\n",
      "Using default location ~/mne_data for PHYSIONET_SLEEP...\n",
      "Downloading https://physionet.org/physiobank/database/sleep-edfx/sleep-cassette//SC4741E0-PSG.edf (46.8 MB)\n"
     ]
    },
    {
     "data": {
      "application/vnd.jupyter.widget-view+json": {
       "model_id": "dae312681f9b48fdba106192a1f8c7eb",
       "version_major": 2,
       "version_minor": 0
      },
      "text/plain": [
       "HBox(children=(FloatProgress(value=0.0, description='Downloading', max=49067648.0, style=ProgressStyle(descrip…"
      ]
     },
     "metadata": {},
     "output_type": "display_data"
    },
    {
     "name": "stdout",
     "output_type": "stream",
     "text": [
      "\n",
      "Verifying hash e6ff7462f4ce401e9aff9b3d9c93f0710bc37678.\n",
      "Downloading https://physionet.org/physiobank/database/sleep-edfx/sleep-cassette//SC4741EA-Hypnogram.edf (3 kB)\n"
     ]
    },
    {
     "data": {
      "application/vnd.jupyter.widget-view+json": {
       "model_id": "a9ea8ddac3ab425e9edeb547df16c0ba",
       "version_major": 2,
       "version_minor": 0
      },
      "text/plain": [
       "HBox(children=(FloatProgress(value=0.0, description='Downloading', max=2974.0, style=ProgressStyle(description…"
      ]
     },
     "metadata": {},
     "output_type": "display_data"
    },
    {
     "name": "stdout",
     "output_type": "stream",
     "text": [
      "\n",
      "Verifying hash bda4d1ab190f4160ec7a3f4420e30d718f02369e.\n",
      "Extracting EDF parameters from C:\\Users\\baron\\mne_data\\physionet-sleep-data\\SC4741E0-PSG.edf...\n",
      "EDF file detected\n",
      "Setting channel info structure...\n",
      "Creating raw.info structure...\n",
      "Used Annotations descriptions: ['Sleep stage 1', 'Sleep stage 2', 'Sleep stage R', 'Sleep stage W']\n",
      "Using default location ~/mne_data for PHYSIONET_SLEEP...\n",
      "Downloading https://physionet.org/physiobank/database/sleep-edfx/sleep-cassette//SC4751E0-PSG.edf (46.6 MB)\n"
     ]
    },
    {
     "data": {
      "application/vnd.jupyter.widget-view+json": {
       "model_id": "063851e9179b49b49fb2363380e062a1",
       "version_major": 2,
       "version_minor": 0
      },
      "text/plain": [
       "HBox(children=(FloatProgress(value=0.0, description='Downloading', max=48885248.0, style=ProgressStyle(descrip…"
      ]
     },
     "metadata": {},
     "output_type": "display_data"
    },
    {
     "name": "stdout",
     "output_type": "stream",
     "text": [
      "\n",
      "Verifying hash 17c356a283b026e507331209512453573bcfebe5.\n",
      "Downloading https://physionet.org/physiobank/database/sleep-edfx/sleep-cassette//SC4751EC-Hypnogram.edf (2 kB)\n"
     ]
    },
    {
     "data": {
      "application/vnd.jupyter.widget-view+json": {
       "model_id": "c647a2f5585c41e2af23b2f3b81605db",
       "version_major": 2,
       "version_minor": 0
      },
      "text/plain": [
       "HBox(children=(FloatProgress(value=0.0, description='Downloading', max=2096.0, style=ProgressStyle(description…"
      ]
     },
     "metadata": {},
     "output_type": "display_data"
    },
    {
     "name": "stdout",
     "output_type": "stream",
     "text": [
      "\n",
      "Verifying hash d35737e86979127ea01b95dcecea018dd2e44f45.\n",
      "Extracting EDF parameters from C:\\Users\\baron\\mne_data\\physionet-sleep-data\\SC4751E0-PSG.edf...\n",
      "EDF file detected\n",
      "Setting channel info structure...\n",
      "Creating raw.info structure...\n",
      "Used Annotations descriptions: ['Sleep stage 1', 'Sleep stage 2', 'Sleep stage R', 'Sleep stage W']\n",
      "Using default location ~/mne_data for PHYSIONET_SLEEP...\n",
      "Downloading https://physionet.org/physiobank/database/sleep-edfx/sleep-cassette//SC4761E0-PSG.edf (45.8 MB)\n"
     ]
    },
    {
     "data": {
      "application/vnd.jupyter.widget-view+json": {
       "model_id": "8bcc786bbe914f60be6e5bd40ce3936d",
       "version_major": 2,
       "version_minor": 0
      },
      "text/plain": [
       "HBox(children=(FloatProgress(value=0.0, description='Downloading', max=47973248.0, style=ProgressStyle(descrip…"
      ]
     },
     "metadata": {},
     "output_type": "display_data"
    },
    {
     "name": "stdout",
     "output_type": "stream",
     "text": [
      "\n",
      "Verifying hash 8bde3f0d5ab6a592f229dfd7886341b3f800bdb3.\n",
      "Downloading https://physionet.org/physiobank/database/sleep-edfx/sleep-cassette//SC4761EP-Hypnogram.edf (4 kB)\n"
     ]
    },
    {
     "data": {
      "application/vnd.jupyter.widget-view+json": {
       "model_id": "671addd823064665841faddd4cdf9c48",
       "version_major": 2,
       "version_minor": 0
      },
      "text/plain": [
       "HBox(children=(FloatProgress(value=0.0, description='Downloading', max=4180.0, style=ProgressStyle(description…"
      ]
     },
     "metadata": {},
     "output_type": "display_data"
    },
    {
     "name": "stdout",
     "output_type": "stream",
     "text": [
      "\n",
      "Verifying hash 3dbf15f28a293ac89dcf458d844a8c6443aaf1e6.\n",
      "Extracting EDF parameters from C:\\Users\\baron\\mne_data\\physionet-sleep-data\\SC4761E0-PSG.edf...\n",
      "EDF file detected\n",
      "Setting channel info structure...\n",
      "Creating raw.info structure...\n",
      "Used Annotations descriptions: ['Sleep stage 1', 'Sleep stage 2', 'Sleep stage 3', 'Sleep stage R', 'Sleep stage W']\n",
      "Not setting metadata\n",
      "Not setting metadata\n",
      "1683 matching events found\n",
      "No baseline correction applied\n",
      "0 projection items activated\n",
      "Loading data for 1683 events and 3000 original time points ...\n",
      "0 bad epochs dropped\n",
      "Using default location ~/mne_data for PHYSIONET_SLEEP...\n",
      "Downloading https://physionet.org/physiobank/database/sleep-edfx/sleep-cassette//SC4771G0-PSG.edf (47.9 MB)\n"
     ]
    },
    {
     "data": {
      "application/vnd.jupyter.widget-view+json": {
       "model_id": "95400a90d970461a8b0e2ff431ae8d49",
       "version_major": 2,
       "version_minor": 0
      },
      "text/plain": [
       "HBox(children=(FloatProgress(value=0.0, description='Downloading', max=50271488.0, style=ProgressStyle(descrip…"
      ]
     },
     "metadata": {},
     "output_type": "display_data"
    },
    {
     "name": "stdout",
     "output_type": "stream",
     "text": [
      "\n",
      "Verifying hash ac8c2be9175cb02e00cccb5d5df2acfaf05971cc.\n",
      "Downloading https://physionet.org/physiobank/database/sleep-edfx/sleep-cassette//SC4771GC-Hypnogram.edf (4 kB)\n"
     ]
    },
    {
     "data": {
      "application/vnd.jupyter.widget-view+json": {
       "model_id": "ee75681a8915466089f0cf8232668a6c",
       "version_major": 2,
       "version_minor": 0
      },
      "text/plain": [
       "HBox(children=(FloatProgress(value=0.0, description='Downloading', max=4162.0, style=ProgressStyle(description…"
      ]
     },
     "metadata": {},
     "output_type": "display_data"
    },
    {
     "name": "stdout",
     "output_type": "stream",
     "text": [
      "\n",
      "Verifying hash 09e80b973502d89368d7823ad4aec7417b735f6e.\n",
      "Extracting EDF parameters from C:\\Users\\baron\\mne_data\\physionet-sleep-data\\SC4771G0-PSG.edf...\n",
      "EDF file detected\n",
      "Setting channel info structure...\n",
      "Creating raw.info structure...\n",
      "Used Annotations descriptions: ['Sleep stage 1', 'Sleep stage 2', 'Sleep stage 3', 'Sleep stage R', 'Sleep stage W']\n",
      "Not setting metadata\n",
      "Not setting metadata\n",
      "1325 matching events found\n",
      "No baseline correction applied\n",
      "0 projection items activated\n",
      "Loading data for 1325 events and 3000 original time points ...\n",
      "0 bad epochs dropped\n",
      "Using default location ~/mne_data for PHYSIONET_SLEEP...\n",
      "Downloading https://physionet.org/physiobank/database/sleep-edfx/sleep-cassette//SC4801G0-PSG.edf (48.3 MB)\n"
     ]
    },
    {
     "data": {
      "application/vnd.jupyter.widget-view+json": {
       "model_id": "e1da23e6debc4c79984876bb5891e9e6",
       "version_major": 2,
       "version_minor": 0
      },
      "text/plain": [
       "HBox(children=(FloatProgress(value=0.0, description='Downloading', max=50599808.0, style=ProgressStyle(descrip…"
      ]
     },
     "metadata": {},
     "output_type": "display_data"
    },
    {
     "name": "stdout",
     "output_type": "stream",
     "text": [
      "\n",
      "Verifying hash 0ce00a144dd9bc1b0e20cd30e6501a3852e4dbef.\n",
      "Downloading https://physionet.org/physiobank/database/sleep-edfx/sleep-cassette//SC4801GC-Hypnogram.edf (5 kB)\n"
     ]
    },
    {
     "data": {
      "application/vnd.jupyter.widget-view+json": {
       "model_id": "9afe5b4bef5044d394e42621c94427de",
       "version_major": 2,
       "version_minor": 0
      },
      "text/plain": [
       "HBox(children=(FloatProgress(value=0.0, description='Downloading', max=4934.0, style=ProgressStyle(description…"
      ]
     },
     "metadata": {},
     "output_type": "display_data"
    },
    {
     "name": "stdout",
     "output_type": "stream",
     "text": [
      "\n",
      "Verifying hash f82d2b8e45723f2a69f8c30286cc68486b0792a6.\n",
      "Extracting EDF parameters from C:\\Users\\baron\\mne_data\\physionet-sleep-data\\SC4801G0-PSG.edf...\n",
      "EDF file detected\n",
      "Setting channel info structure...\n",
      "Creating raw.info structure...\n",
      "Used Annotations descriptions: ['Sleep stage 1', 'Sleep stage 2', 'Sleep stage 3', 'Sleep stage R', 'Sleep stage W']\n",
      "Not setting metadata\n",
      "Not setting metadata\n",
      "1241 matching events found\n",
      "No baseline correction applied\n",
      "0 projection items activated\n",
      "Loading data for 1241 events and 3000 original time points ...\n",
      "0 bad epochs dropped\n",
      "Using default location ~/mne_data for PHYSIONET_SLEEP...\n",
      "Downloading https://physionet.org/physiobank/database/sleep-edfx/sleep-cassette//SC4811G0-PSG.edf (41.8 MB)\n"
     ]
    },
    {
     "data": {
      "application/vnd.jupyter.widget-view+json": {
       "model_id": "2e7cf2f4e328498cb9465ba1ce8cfc51",
       "version_major": 2,
       "version_minor": 0
      },
      "text/plain": [
       "HBox(children=(FloatProgress(value=0.0, description='Downloading', max=43814528.0, style=ProgressStyle(descrip…"
      ]
     },
     "metadata": {},
     "output_type": "display_data"
    },
    {
     "name": "stdout",
     "output_type": "stream",
     "text": [
      "\n",
      "Verifying hash dcae3307af54ccf5349945e2fa493464de0a5da2.\n",
      "Downloading https://physionet.org/physiobank/database/sleep-edfx/sleep-cassette//SC4811GG-Hypnogram.edf (6 kB)\n"
     ]
    },
    {
     "data": {
      "application/vnd.jupyter.widget-view+json": {
       "model_id": "8843c25393cf41d69fee3ae14a6637c4",
       "version_major": 2,
       "version_minor": 0
      },
      "text/plain": [
       "HBox(children=(FloatProgress(value=0.0, description='Downloading', max=6512.0, style=ProgressStyle(description…"
      ]
     },
     "metadata": {},
     "output_type": "display_data"
    },
    {
     "name": "stdout",
     "output_type": "stream",
     "text": [
      "\n",
      "Verifying hash 2406ce37b86fc3c7492a3ebe89ae58d15686b33d.\n",
      "Extracting EDF parameters from C:\\Users\\baron\\mne_data\\physionet-sleep-data\\SC4811G0-PSG.edf...\n",
      "EDF file detected\n",
      "Setting channel info structure...\n",
      "Creating raw.info structure...\n",
      "Used Annotations descriptions: ['Sleep stage 1', 'Sleep stage 2', 'Sleep stage 3', 'Sleep stage 4', 'Sleep stage R', 'Sleep stage W']\n",
      "Not setting metadata\n",
      "Not setting metadata\n",
      "1293 matching events found\n",
      "No baseline correction applied\n",
      "0 projection items activated\n",
      "Loading data for 1293 events and 3000 original time points ...\n",
      "0 bad epochs dropped\n",
      "Using default location ~/mne_data for PHYSIONET_SLEEP...\n",
      "Downloading https://physionet.org/physiobank/database/sleep-edfx/sleep-cassette//SC4821G0-PSG.edf (47.4 MB)\n"
     ]
    },
    {
     "data": {
      "application/vnd.jupyter.widget-view+json": {
       "model_id": "26056c0a76f742368712ad442f31f619",
       "version_major": 2,
       "version_minor": 0
      },
      "text/plain": [
       "HBox(children=(FloatProgress(value=0.0, description='Downloading', max=49651328.0, style=ProgressStyle(descrip…"
      ]
     },
     "metadata": {},
     "output_type": "display_data"
    },
    {
     "name": "stdout",
     "output_type": "stream",
     "text": [
      "\n",
      "Verifying hash 9008c6ffc917fb90a3d399e768fe3c563a144a2f.\n",
      "Downloading https://physionet.org/physiobank/database/sleep-edfx/sleep-cassette//SC4821GC-Hypnogram.edf (5 kB)\n"
     ]
    },
    {
     "data": {
      "application/vnd.jupyter.widget-view+json": {
       "model_id": "022fce11b1b643e8bc702f9f2ea27d0c",
       "version_major": 2,
       "version_minor": 0
      },
      "text/plain": [
       "HBox(children=(FloatProgress(value=0.0, description='Downloading', max=4624.0, style=ProgressStyle(description…"
      ]
     },
     "metadata": {},
     "output_type": "display_data"
    },
    {
     "name": "stdout",
     "output_type": "stream",
     "text": [
      "\n",
      "Verifying hash 59534244c603cd5c3c27db26ae2f014983ec6c9b.\n",
      "Extracting EDF parameters from C:\\Users\\baron\\mne_data\\physionet-sleep-data\\SC4821G0-PSG.edf...\n",
      "EDF file detected\n",
      "Setting channel info structure...\n",
      "Creating raw.info structure...\n",
      "Used Annotations descriptions: ['Sleep stage 1', 'Sleep stage 2', 'Sleep stage 3', 'Sleep stage 4', 'Sleep stage R', 'Sleep stage W']\n",
      "Not setting metadata\n",
      "Not setting metadata\n",
      "1704 matching events found\n",
      "No baseline correction applied\n",
      "0 projection items activated\n",
      "Loading data for 1704 events and 3000 original time points ...\n",
      "0 bad epochs dropped\n",
      "Using default location ~/mne_data for PHYSIONET_SLEEP...\n",
      "Using default location ~/mne_data for PHYSIONET_SLEEP...\n",
      "Using default location ~/mne_data for PHYSIONET_SLEEP...\n",
      "Using default location ~/mne_data for PHYSIONET_SLEEP...\n",
      "Using default location ~/mne_data for PHYSIONET_SLEEP...\n",
      "Using default location ~/mne_data for PHYSIONET_SLEEP...\n",
      "Using default location ~/mne_data for PHYSIONET_SLEEP...\n",
      "Using default location ~/mne_data for PHYSIONET_SLEEP...\n",
      "Using default location ~/mne_data for PHYSIONET_SLEEP...\n",
      "Using default location ~/mne_data for PHYSIONET_SLEEP...\n",
      "Using default location ~/mne_data for PHYSIONET_SLEEP...\n",
      "Using default location ~/mne_data for PHYSIONET_SLEEP...\n",
      "Using default location ~/mne_data for PHYSIONET_SLEEP...\n",
      "Using default location ~/mne_data for PHYSIONET_SLEEP...\n",
      "Using default location ~/mne_data for PHYSIONET_SLEEP...\n",
      "Using default location ~/mne_data for PHYSIONET_SLEEP...\n",
      "Using default location ~/mne_data for PHYSIONET_SLEEP...\n"
     ]
    }
   ],
   "source": [
    "result = []\n",
    "for i in range(0,100): #2 to test\n",
    "    if i not in [36, 39, 52, 68, 69, 78, 79]:\n",
    "        try:\n",
    "            subject = fetch_data(subjects = [i], recording = [1])\n",
    "            raw_train = mne.io.read_raw_edf(subject[0][0])\n",
    "            annot_train = mne.read_annotations(subject[0][1])\n",
    "            raw_train.set_annotations(annot_train, emit_warning=False)\n",
    "\n",
    "            annotation_desc_2_event_id = {'Sleep stage W': 1,\n",
    "                                  'Sleep stage 1': 2,\n",
    "                                  'Sleep stage 2': 3,\n",
    "                                  'Sleep stage 3': 4,\n",
    "                                  'Sleep stage 4': 4,\n",
    "                                  'Sleep stage R': 5}\n",
    "\n",
    "            # keep last 30-min wake events before sleep and first 30-min wake events after\n",
    "            # sleep and redefine annotations on raw data\n",
    "            annot_train.crop(annot_train[1]['onset'] - 30 * 60,\n",
    "                             annot_train[-2]['onset'] + 30 * 60)\n",
    "            raw_train.set_annotations(annot_train, emit_warning=False)\n",
    "\n",
    "            events_train, _ = mne.events_from_annotations(\n",
    "                raw_train, event_id=annotation_desc_2_event_id, chunk_duration=30.)\n",
    "\n",
    "            # create a new event_id that unifies stages 3 and 4\n",
    "            event_id = {'Sleep stage W': 1,\n",
    "                        'Sleep stage 1': 2,\n",
    "                        'Sleep stage 2': 3,\n",
    "                        'Sleep stage 3/4': 4,\n",
    "                        'Sleep stage R': 5}\n",
    "\n",
    "            tmax = 30. - 1. / raw_train.info['sfreq']  # tmax in included\n",
    "\n",
    "            epochs_train = mne.Epochs(raw=raw_train, events=events_train,\n",
    "                                      event_id=event_id, tmin=0., tmax=tmax, baseline=None)\n",
    "\n",
    "            index, scalings = ['epoch'], dict(eeg=1e6, mag=1e15, grad=1e13)\n",
    "\n",
    "            df = epochs_train.to_data_frame(picks=None, scalings=scalings)\n",
    "            #take first condition value per epoch (is there 1 epoch to condition? not sure)\n",
    "            df = pd.DataFrame(df.groupby('epoch').first()['condition']).merge(df.groupby('epoch').mean().drop('time', axis = 1), left_index = True, right_index = True, how = 'inner')\n",
    "\n",
    "            df['patient_id'] = i + 1\n",
    "            result.append(df)\n",
    "        except:\n",
    "            pass\n",
    "result = pd.concat(result)"
   ]
  },
  {
   "cell_type": "code",
   "execution_count": 7,
   "id": "abstract-wednesday",
   "metadata": {},
   "outputs": [],
   "source": [
    "result[['patient_id','condition', 'EEG Fpz-Cz', 'EEG Pz-Oz', 'EOG horizontal',\n",
    "       'Resp oro-nasal', 'EMG submental', 'Temp rectal', 'Event marker']].to_csv('sleep_edf_raw.csv')"
   ]
  },
  {
   "cell_type": "code",
   "execution_count": null,
   "id": "strange-seating",
   "metadata": {},
   "outputs": [],
   "source": []
  },
  {
   "cell_type": "code",
   "execution_count": null,
   "id": "yellow-computer",
   "metadata": {},
   "outputs": [],
   "source": []
  }
 ],
 "metadata": {
  "kernelspec": {
   "display_name": "Python 3",
   "language": "python",
   "name": "python3"
  },
  "language_info": {
   "codemirror_mode": {
    "name": "ipython",
    "version": 3
   },
   "file_extension": ".py",
   "mimetype": "text/x-python",
   "name": "python",
   "nbconvert_exporter": "python",
   "pygments_lexer": "ipython3",
   "version": "3.6.12"
  }
 },
 "nbformat": 4,
 "nbformat_minor": 5
}
